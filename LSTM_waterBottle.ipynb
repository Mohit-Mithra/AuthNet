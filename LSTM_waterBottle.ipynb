{
 "cells": [
  {
   "cell_type": "code",
   "execution_count": 1,
   "metadata": {},
   "outputs": [
    {
     "name": "stderr",
     "output_type": "stream",
     "text": [
      "Using TensorFlow backend.\n"
     ]
    }
   ],
   "source": [
    "from keras.layers import LSTM\n",
    "from keras.models import Sequential, Model\n",
    "from keras.layers import Input, Dense, Flatten, Dropout, Activation, Lambda, Permute, Reshape\n",
    "import numpy as np"
   ]
  },
  {
   "cell_type": "code",
   "execution_count": 6,
   "metadata": {},
   "outputs": [],
   "source": [
    "from numpy import load"
   ]
  },
  {
   "cell_type": "code",
   "execution_count": 3,
   "metadata": {},
   "outputs": [],
   "source": [
    "X_train=load('X_train.npy')\n",
    "#print(X_train)"
   ]
  },
  {
   "cell_type": "code",
   "execution_count": 4,
   "metadata": {},
   "outputs": [],
   "source": [
    "#load y_train\n",
    "y_train=np.ones((9,1))\n",
    "y_train1=np.zeros((27,1))\n",
    "Y_train=np.concatenate((y_train,y_train1))"
   ]
  },
  {
   "cell_type": "code",
   "execution_count": 5,
   "metadata": {},
   "outputs": [
    {
     "name": "stdout",
     "output_type": "stream",
     "text": [
      "WARNING:tensorflow:From C:\\Users\\Om\\Anaconda3\\lib\\site-packages\\keras\\backend\\tensorflow_backend.py:74: The name tf.get_default_graph is deprecated. Please use tf.compat.v1.get_default_graph instead.\n",
      "\n",
      "WARNING:tensorflow:From C:\\Users\\Om\\Anaconda3\\lib\\site-packages\\keras\\backend\\tensorflow_backend.py:517: The name tf.placeholder is deprecated. Please use tf.compat.v1.placeholder instead.\n",
      "\n",
      "WARNING:tensorflow:From C:\\Users\\Om\\Anaconda3\\lib\\site-packages\\keras\\backend\\tensorflow_backend.py:4138: The name tf.random_uniform is deprecated. Please use tf.random.uniform instead.\n",
      "\n",
      "WARNING:tensorflow:From C:\\Users\\Om\\Anaconda3\\lib\\site-packages\\keras\\backend\\tensorflow_backend.py:133: The name tf.placeholder_with_default is deprecated. Please use tf.compat.v1.placeholder_with_default instead.\n",
      "\n",
      "WARNING:tensorflow:From C:\\Users\\Om\\Anaconda3\\lib\\site-packages\\keras\\backend\\tensorflow_backend.py:3445: calling dropout (from tensorflow.python.ops.nn_ops) with keep_prob is deprecated and will be removed in a future version.\n",
      "Instructions for updating:\n",
      "Please use `rate` instead of `keep_prob`. Rate should be set to `rate = 1 - keep_prob`.\n"
     ]
    }
   ],
   "source": [
    "model = Sequential()\n",
    "\n",
    "input_shape=(X_train.shape[1],X_train.shape[2])\n",
    "\n",
    "model.add(LSTM(units=11,return_sequences=True,input_shape=input_shape))\n",
    "model.add(Dropout(0.2))\n",
    "\n",
    "model.add(LSTM(units=16,return_sequences=True,input_shape=input_shape))\n",
    "model.add(Dropout(0.2))\n",
    "\n",
    "\n",
    "model.add(LSTM(units=32,return_sequences=True,input_shape=input_shape))\n",
    "model.add(Dropout(0.2))\n",
    "\n",
    "\n",
    "model.add(LSTM(units=32,return_sequences=True,input_shape=input_shape))\n",
    "model.add(Dropout(0.2))\n",
    "\n",
    "model.add(LSTM(units=16,return_sequences=True,input_shape=input_shape))\n",
    "model.add(Dropout(0.2))\n",
    "\n",
    "model.add(LSTM(units=16,input_shape=input_shape))\n",
    "model.add(Dropout(0.2))\n",
    "\n",
    "model.add(Dense(units=4))\n",
    "model.add(Dense(units=1, activation='sigmoid'))"
   ]
  },
  {
   "cell_type": "code",
   "execution_count": 6,
   "metadata": {},
   "outputs": [
    {
     "name": "stdout",
     "output_type": "stream",
     "text": [
      "_________________________________________________________________\n",
      "Layer (type)                 Output Shape              Param #   \n",
      "=================================================================\n",
      "lstm_1 (LSTM)                (None, 11, 11)            115896    \n",
      "_________________________________________________________________\n",
      "dropout_1 (Dropout)          (None, 11, 11)            0         \n",
      "_________________________________________________________________\n",
      "lstm_2 (LSTM)                (None, 11, 16)            1792      \n",
      "_________________________________________________________________\n",
      "dropout_2 (Dropout)          (None, 11, 16)            0         \n",
      "_________________________________________________________________\n",
      "lstm_3 (LSTM)                (None, 11, 32)            6272      \n",
      "_________________________________________________________________\n",
      "dropout_3 (Dropout)          (None, 11, 32)            0         \n",
      "_________________________________________________________________\n",
      "lstm_4 (LSTM)                (None, 11, 32)            8320      \n",
      "_________________________________________________________________\n",
      "dropout_4 (Dropout)          (None, 11, 32)            0         \n",
      "_________________________________________________________________\n",
      "lstm_5 (LSTM)                (None, 11, 16)            3136      \n",
      "_________________________________________________________________\n",
      "dropout_5 (Dropout)          (None, 11, 16)            0         \n",
      "_________________________________________________________________\n",
      "lstm_6 (LSTM)                (None, 16)                2112      \n",
      "_________________________________________________________________\n",
      "dropout_6 (Dropout)          (None, 16)                0         \n",
      "_________________________________________________________________\n",
      "dense_1 (Dense)              (None, 4)                 68        \n",
      "_________________________________________________________________\n",
      "dense_2 (Dense)              (None, 1)                 5         \n",
      "=================================================================\n",
      "Total params: 137,601\n",
      "Trainable params: 137,601\n",
      "Non-trainable params: 0\n",
      "_________________________________________________________________\n"
     ]
    }
   ],
   "source": [
    "model.summary()"
   ]
  },
  {
   "cell_type": "code",
   "execution_count": 7,
   "metadata": {},
   "outputs": [
    {
     "name": "stdout",
     "output_type": "stream",
     "text": [
      "WARNING:tensorflow:From C:\\Users\\Om\\Anaconda3\\lib\\site-packages\\keras\\optimizers.py:790: The name tf.train.Optimizer is deprecated. Please use tf.compat.v1.train.Optimizer instead.\n",
      "\n",
      "WARNING:tensorflow:From C:\\Users\\Om\\Anaconda3\\lib\\site-packages\\tensorflow_core\\python\\ops\\math_grad.py:1424: where (from tensorflow.python.ops.array_ops) is deprecated and will be removed in a future version.\n",
      "Instructions for updating:\n",
      "Use tf.where in 2.0, which has the same broadcast rule as np.where\n",
      "WARNING:tensorflow:From C:\\Users\\Om\\Anaconda3\\lib\\site-packages\\keras\\backend\\tensorflow_backend.py:986: The name tf.assign_add is deprecated. Please use tf.compat.v1.assign_add instead.\n",
      "\n",
      "WARNING:tensorflow:From C:\\Users\\Om\\Anaconda3\\lib\\site-packages\\keras\\backend\\tensorflow_backend.py:973: The name tf.assign is deprecated. Please use tf.compat.v1.assign instead.\n",
      "\n",
      "WARNING:tensorflow:From C:\\Users\\Om\\Anaconda3\\lib\\site-packages\\keras\\backend\\tensorflow_backend.py:2741: The name tf.Session is deprecated. Please use tf.compat.v1.Session instead.\n",
      "\n",
      "Epoch 1/50\n",
      "WARNING:tensorflow:From C:\\Users\\Om\\Anaconda3\\lib\\site-packages\\keras\\backend\\tensorflow_backend.py:174: The name tf.get_default_session is deprecated. Please use tf.compat.v1.get_default_session instead.\n",
      "\n",
      "WARNING:tensorflow:From C:\\Users\\Om\\Anaconda3\\lib\\site-packages\\keras\\backend\\tensorflow_backend.py:181: The name tf.ConfigProto is deprecated. Please use tf.compat.v1.ConfigProto instead.\n",
      "\n",
      "WARNING:tensorflow:From C:\\Users\\Om\\Anaconda3\\lib\\site-packages\\keras\\backend\\tensorflow_backend.py:190: The name tf.global_variables is deprecated. Please use tf.compat.v1.global_variables instead.\n",
      "\n",
      "WARNING:tensorflow:From C:\\Users\\Om\\Anaconda3\\lib\\site-packages\\keras\\backend\\tensorflow_backend.py:199: The name tf.is_variable_initialized is deprecated. Please use tf.compat.v1.is_variable_initialized instead.\n",
      "\n",
      "WARNING:tensorflow:From C:\\Users\\Om\\Anaconda3\\lib\\site-packages\\keras\\backend\\tensorflow_backend.py:206: The name tf.variables_initializer is deprecated. Please use tf.compat.v1.variables_initializer instead.\n",
      "\n",
      "36/36 [==============================] - 9s 260ms/step - loss: 0.2433 - acc: 0.6944\n",
      "Epoch 2/50\n",
      "36/36 [==============================] - 2s 44ms/step - loss: 0.2129 - acc: 0.7500\n",
      "Epoch 3/50\n",
      "36/36 [==============================] - 2s 42ms/step - loss: 0.1707 - acc: 0.7500\n",
      "Epoch 4/50\n",
      "36/36 [==============================] - 1s 41ms/step - loss: 0.1668 - acc: 0.7500\n",
      "Epoch 5/50\n",
      "36/36 [==============================] - 1s 41ms/step - loss: 0.1320 - acc: 0.7500\n",
      "Epoch 6/50\n",
      "36/36 [==============================] - 1s 41ms/step - loss: 0.1006 - acc: 0.8056\n",
      "Epoch 7/50\n",
      "36/36 [==============================] - 1s 41ms/step - loss: 0.0629 - acc: 0.9167\n",
      "Epoch 8/50\n",
      "36/36 [==============================] - 2s 42ms/step - loss: 0.0494 - acc: 1.0000\n",
      "Epoch 9/50\n",
      "36/36 [==============================] - 1s 42ms/step - loss: 0.0380 - acc: 1.0000\n",
      "Epoch 10/50\n",
      "36/36 [==============================] - 1s 41ms/step - loss: 0.0278 - acc: 1.0000\n",
      "Epoch 11/50\n",
      "36/36 [==============================] - 2s 42ms/step - loss: 0.0249 - acc: 0.9722\n",
      "Epoch 12/50\n",
      "36/36 [==============================] - 2s 47ms/step - loss: 0.0536 - acc: 0.9167\n",
      "Epoch 13/50\n",
      "36/36 [==============================] - 2s 43ms/step - loss: 0.0139 - acc: 1.0000\n",
      "Epoch 14/50\n",
      "36/36 [==============================] - 1s 41ms/step - loss: 0.0120 - acc: 1.0000\n",
      "Epoch 15/50\n",
      "36/36 [==============================] - 2s 42ms/step - loss: 0.0037 - acc: 1.0000\n",
      "Epoch 16/50\n",
      "36/36 [==============================] - 1s 42ms/step - loss: 0.0033 - acc: 1.0000\n",
      "Epoch 17/50\n",
      "36/36 [==============================] - 1s 41ms/step - loss: 0.0024 - acc: 1.0000\n",
      "Epoch 18/50\n",
      "36/36 [==============================] - 2s 42ms/step - loss: 0.0018 - acc: 1.0000\n",
      "Epoch 19/50\n",
      "36/36 [==============================] - 1s 41ms/step - loss: 0.0018 - acc: 1.0000\n",
      "Epoch 20/50\n",
      "36/36 [==============================] - 1s 41ms/step - loss: 0.0026 - acc: 1.0000\n",
      "Epoch 21/50\n",
      "36/36 [==============================] - 2s 42ms/step - loss: 0.0027 - acc: 1.0000\n",
      "Epoch 22/50\n",
      "36/36 [==============================] - 2s 46ms/step - loss: 9.4544e-04 - acc: 1.0000\n",
      "Epoch 23/50\n",
      "36/36 [==============================] - 2s 47ms/step - loss: 8.9908e-04 - acc: 1.0000\n",
      "Epoch 24/50\n",
      "36/36 [==============================] - 2s 42ms/step - loss: 0.0010 - acc: 1.0000\n",
      "Epoch 25/50\n",
      "36/36 [==============================] - 2s 45ms/step - loss: 3.9009e-04 - acc: 1.0000\n",
      "Epoch 26/50\n",
      "36/36 [==============================] - 2s 52ms/step - loss: 0.0011 - acc: 1.0000\n",
      "Epoch 27/50\n",
      "36/36 [==============================] - 2s 46ms/step - loss: 4.9681e-04 - acc: 1.0000\n",
      "Epoch 28/50\n",
      "36/36 [==============================] - 2s 43ms/step - loss: 4.4561e-04 - acc: 1.0000\n",
      "Epoch 29/50\n",
      "36/36 [==============================] - 2s 42ms/step - loss: 6.2505e-04 - acc: 1.0000\n",
      "Epoch 30/50\n",
      "36/36 [==============================] - 2s 43ms/step - loss: 4.2141e-04 - acc: 1.0000\n",
      "Epoch 31/50\n",
      "36/36 [==============================] - 2s 44ms/step - loss: 2.9755e-04 - acc: 1.0000\n",
      "Epoch 32/50\n",
      "36/36 [==============================] - 2s 46ms/step - loss: 3.4239e-04 - acc: 1.0000\n",
      "Epoch 33/50\n",
      "36/36 [==============================] - 2s 50ms/step - loss: 2.0091e-04 - acc: 1.0000\n",
      "Epoch 34/50\n",
      "36/36 [==============================] - 2s 50ms/step - loss: 2.9506e-04 - acc: 1.0000\n",
      "Epoch 35/50\n",
      "36/36 [==============================] - 2s 46ms/step - loss: 2.9822e-04 - acc: 1.0000\n",
      "Epoch 36/50\n",
      "36/36 [==============================] - 2s 43ms/step - loss: 2.6243e-04 - acc: 1.0000\n",
      "Epoch 37/50\n",
      "36/36 [==============================] - 2s 43ms/step - loss: 1.8916e-04 - acc: 1.0000\n",
      "Epoch 38/50\n",
      "36/36 [==============================] - 2s 45ms/step - loss: 2.1413e-04 - acc: 1.0000\n",
      "Epoch 39/50\n",
      "36/36 [==============================] - 2s 43ms/step - loss: 2.0406e-04 - acc: 1.0000\n",
      "Epoch 40/50\n",
      "36/36 [==============================] - 2s 47ms/step - loss: 1.5886e-04 - acc: 1.0000\n",
      "Epoch 41/50\n",
      "36/36 [==============================] - 2s 43ms/step - loss: 3.1107e-04 - acc: 1.0000\n",
      "Epoch 42/50\n",
      "36/36 [==============================] - 2s 47ms/step - loss: 2.1815e-04 - acc: 1.0000\n",
      "Epoch 43/50\n",
      "36/36 [==============================] - 2s 47ms/step - loss: 2.3200e-04 - acc: 1.0000\n",
      "Epoch 44/50\n",
      "36/36 [==============================] - 2s 42ms/step - loss: 1.5168e-04 - acc: 1.0000\n",
      "Epoch 45/50\n",
      "36/36 [==============================] - 2s 43ms/step - loss: 1.6405e-04 - acc: 1.0000\n",
      "Epoch 46/50\n",
      "36/36 [==============================] - 2s 43ms/step - loss: 1.9184e-04 - acc: 1.0000\n",
      "Epoch 47/50\n",
      "36/36 [==============================] - 2s 43ms/step - loss: 9.6851e-05 - acc: 1.0000\n",
      "Epoch 48/50\n",
      "36/36 [==============================] - 2s 43ms/step - loss: 1.8446e-04 - acc: 1.0000\n",
      "Epoch 49/50\n",
      "36/36 [==============================] - 2s 44ms/step - loss: 1.5328e-04 - acc: 1.0000\n",
      "Epoch 50/50\n",
      "36/36 [==============================] - 2s 43ms/step - loss: 1.5942e-04 - acc: 1.0000\n"
     ]
    },
    {
     "data": {
      "text/plain": [
       "<keras.callbacks.History at 0x1d458a306c8>"
      ]
     },
     "execution_count": 7,
     "metadata": {},
     "output_type": "execute_result"
    }
   ],
   "source": [
    "model.compile(optimizer='adam', loss='mean_squared_error' ,metrics=['accuracy'])\n",
    "model.fit(X_train,Y_train,epochs=50,batch_size=2)"
   ]
  },
  {
   "cell_type": "code",
   "execution_count": 8,
   "metadata": {},
   "outputs": [],
   "source": [
    "X_test=load('x_test_3.npy')"
   ]
  },
  {
   "cell_type": "code",
   "execution_count": 9,
   "metadata": {},
   "outputs": [
    {
     "data": {
      "text/plain": [
       "array([[0.98286176],\n",
       "       [0.00485888],\n",
       "       [0.00342622],\n",
       "       [0.00342867]], dtype=float32)"
      ]
     },
     "execution_count": 9,
     "metadata": {},
     "output_type": "execute_result"
    }
   ],
   "source": [
    "model.predict_proba(X_test)"
   ]
  },
  {
   "cell_type": "code",
   "execution_count": 11,
   "metadata": {},
   "outputs": [],
   "source": [
    "model.save('98%.h5')"
   ]
  },
  {
   "cell_type": "code",
   "execution_count": 4,
   "metadata": {},
   "outputs": [],
   "source": [
    "from keras.models import load_model"
   ]
  },
  {
   "cell_type": "code",
   "execution_count": 5,
   "metadata": {},
   "outputs": [
    {
     "name": "stdout",
     "output_type": "stream",
     "text": [
      "WARNING:tensorflow:From C:\\Users\\Om\\Anaconda3\\lib\\site-packages\\keras\\backend\\tensorflow_backend.py:74: The name tf.get_default_graph is deprecated. Please use tf.compat.v1.get_default_graph instead.\n",
      "\n",
      "WARNING:tensorflow:From C:\\Users\\Om\\Anaconda3\\lib\\site-packages\\keras\\backend\\tensorflow_backend.py:517: The name tf.placeholder is deprecated. Please use tf.compat.v1.placeholder instead.\n",
      "\n",
      "WARNING:tensorflow:From C:\\Users\\Om\\Anaconda3\\lib\\site-packages\\keras\\backend\\tensorflow_backend.py:4138: The name tf.random_uniform is deprecated. Please use tf.random.uniform instead.\n",
      "\n",
      "WARNING:tensorflow:From C:\\Users\\Om\\Anaconda3\\lib\\site-packages\\keras\\backend\\tensorflow_backend.py:133: The name tf.placeholder_with_default is deprecated. Please use tf.compat.v1.placeholder_with_default instead.\n",
      "\n",
      "WARNING:tensorflow:From C:\\Users\\Om\\Anaconda3\\lib\\site-packages\\keras\\backend\\tensorflow_backend.py:3445: calling dropout (from tensorflow.python.ops.nn_ops) with keep_prob is deprecated and will be removed in a future version.\n",
      "Instructions for updating:\n",
      "Please use `rate` instead of `keep_prob`. Rate should be set to `rate = 1 - keep_prob`.\n",
      "WARNING:tensorflow:From C:\\Users\\Om\\Anaconda3\\lib\\site-packages\\keras\\backend\\tensorflow_backend.py:174: The name tf.get_default_session is deprecated. Please use tf.compat.v1.get_default_session instead.\n",
      "\n",
      "WARNING:tensorflow:From C:\\Users\\Om\\Anaconda3\\lib\\site-packages\\keras\\backend\\tensorflow_backend.py:181: The name tf.ConfigProto is deprecated. Please use tf.compat.v1.ConfigProto instead.\n",
      "\n",
      "WARNING:tensorflow:From C:\\Users\\Om\\Anaconda3\\lib\\site-packages\\keras\\backend\\tensorflow_backend.py:186: The name tf.Session is deprecated. Please use tf.compat.v1.Session instead.\n",
      "\n",
      "WARNING:tensorflow:From C:\\Users\\Om\\Anaconda3\\lib\\site-packages\\keras\\backend\\tensorflow_backend.py:190: The name tf.global_variables is deprecated. Please use tf.compat.v1.global_variables instead.\n",
      "\n",
      "WARNING:tensorflow:From C:\\Users\\Om\\Anaconda3\\lib\\site-packages\\keras\\backend\\tensorflow_backend.py:199: The name tf.is_variable_initialized is deprecated. Please use tf.compat.v1.is_variable_initialized instead.\n",
      "\n",
      "WARNING:tensorflow:From C:\\Users\\Om\\Anaconda3\\lib\\site-packages\\keras\\backend\\tensorflow_backend.py:206: The name tf.variables_initializer is deprecated. Please use tf.compat.v1.variables_initializer instead.\n",
      "\n",
      "WARNING:tensorflow:From C:\\Users\\Om\\Anaconda3\\lib\\site-packages\\keras\\optimizers.py:790: The name tf.train.Optimizer is deprecated. Please use tf.compat.v1.train.Optimizer instead.\n",
      "\n",
      "WARNING:tensorflow:From C:\\Users\\Om\\Anaconda3\\lib\\site-packages\\tensorflow_core\\python\\ops\\math_grad.py:1424: where (from tensorflow.python.ops.array_ops) is deprecated and will be removed in a future version.\n",
      "Instructions for updating:\n",
      "Use tf.where in 2.0, which has the same broadcast rule as np.where\n",
      "WARNING:tensorflow:From C:\\Users\\Om\\Anaconda3\\lib\\site-packages\\keras\\backend\\tensorflow_backend.py:986: The name tf.assign_add is deprecated. Please use tf.compat.v1.assign_add instead.\n",
      "\n",
      "WARNING:tensorflow:From C:\\Users\\Om\\Anaconda3\\lib\\site-packages\\keras\\backend\\tensorflow_backend.py:973: The name tf.assign is deprecated. Please use tf.compat.v1.assign instead.\n",
      "\n"
     ]
    }
   ],
   "source": [
    "model=load_model('99%.h5')"
   ]
  },
  {
   "cell_type": "code",
   "execution_count": 7,
   "metadata": {},
   "outputs": [],
   "source": [
    "X_test=load('x_test_4.npy')"
   ]
  },
  {
   "cell_type": "code",
   "execution_count": 8,
   "metadata": {},
   "outputs": [
    {
     "data": {
      "text/plain": [
       "array([[0.9877686]], dtype=float32)"
      ]
     },
     "execution_count": 8,
     "metadata": {},
     "output_type": "execute_result"
    }
   ],
   "source": [
    "model.predict(X_test)"
   ]
  }
 ],
 "metadata": {
  "kernelspec": {
   "display_name": "Python 3",
   "language": "python",
   "name": "python3"
  },
  "language_info": {
   "codemirror_mode": {
    "name": "ipython",
    "version": 3
   },
   "file_extension": ".py",
   "mimetype": "text/x-python",
   "name": "python",
   "nbconvert_exporter": "python",
   "pygments_lexer": "ipython3",
   "version": "3.7.4"
  }
 },
 "nbformat": 4,
 "nbformat_minor": 2
}
