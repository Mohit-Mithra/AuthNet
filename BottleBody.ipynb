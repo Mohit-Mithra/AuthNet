{
 "cells": [
  {
   "cell_type": "code",
   "execution_count": null,
   "metadata": {},
   "outputs": [],
   "source": [
    "from keras.layers import LSTM\n",
    "from keras.models import Sequential, Model\n",
    "from keras.layers import Input, Dense, Flatten, Dropout, Activation, Lambda, Permute, Reshape\n",
    "import numpy as np"
   ]
  },
  {
   "cell_type": "code",
   "execution_count": null,
   "metadata": {},
   "outputs": [],
   "source": [
    "from numpy import load\n",
    "from keras import losses"
   ]
  },
  {
   "cell_type": "code",
   "execution_count": null,
   "metadata": {},
   "outputs": [],
   "source": [
    "#X_data1=load('C:\\\\Users\\\\Om\\\\Desktop\\\\LSTM_input2.npy')"
   ]
  },
  {
   "cell_type": "code",
   "execution_count": null,
   "metadata": {},
   "outputs": [],
   "source": [
    "#print(X_data.shape)"
   ]
  },
  {
   "cell_type": "markdown",
   "metadata": {},
   "source": [
    "### Oversampling"
   ]
  },
  {
   "cell_type": "code",
   "execution_count": null,
   "metadata": {},
   "outputs": [],
   "source": [
    "#pos_over=load('FO1_f5.npy')\n",
    "#pos_over2=load('FO1_l5.npy')\n",
    "#X_data=X_data1.reshape((500,20,512))"
   ]
  },
  {
   "cell_type": "code",
   "execution_count": null,
   "metadata": {},
   "outputs": [],
   "source": [
    "def oversample(dataset):\n",
    "    pos_over_pos=dataset[0:5,:,:]\n",
    "    over_sample=[]\n",
    "    for i in range(20):\n",
    "        if i == 0:\n",
    "            over_sample=pos_over_pos\n",
    "        else:\n",
    "            over_sample=np.concatenate((over_sample,pos_over_pos))\n",
    "        print(over_sample.shape)\n",
    "        \n",
    "    neg_over_neg = dataset[5:15,:,:]\n",
    "    print(neg_over_neg.shape)\n",
    "    over_sample_neg=[]\n",
    "    for i in range(10):\n",
    "        if i == 0:\n",
    "            over_sample_neg=neg_over_neg\n",
    "        else:\n",
    "            over_sample_neg=np.concatenate((over_sample_neg,neg_over_neg))\n",
    "        \n",
    "        \n",
    "        \n",
    "    X_data_over_sample_neg=np.concatenate((dataset,over_sample_neg))\n",
    "    X_data_over_sample=np.concatenate((X_data_over_sample_neg,over_sample))\n",
    "    \n",
    "    print(X_data_over_sample.shape)\n",
    "    return X_data_over_sample"
   ]
  },
  {
   "cell_type": "markdown",
   "metadata": {},
   "source": [
    "over_sample=[]\n",
    "for i in range(10):\n",
    "    if i == 0:\n",
    "        over_sample=pos_over_pos\n",
    "    else:\n",
    "        over_sample=np.concatenate((over_sample,pos_over_pos))\n",
    "    print(over_sample.shape)"
   ]
  },
  {
   "cell_type": "code",
   "execution_count": null,
   "metadata": {},
   "outputs": [],
   "source": [
    "def labeller():  # ***********************change back to 515 samples\n",
    "\n",
    "    Y_train_p=np.ones((5,1))\n",
    "    Y_train_n=np.zeros((10,1))\n",
    "    Y_data=np.concatenate((Y_train_p,Y_train_n))\n",
    "    Y_data_oversample_neg=np.concatenate((Y_data,np.zeros((100,1))))\n",
    "    Y_data_oversample=np.concatenate((Y_data_oversample_neg,np.ones((100,1))))\n",
    "    return Y_data_oversample"
   ]
  },
  {
   "cell_type": "markdown",
   "metadata": {},
   "source": [
    "count=0\n",
    "for i in range(5):\n",
    "    count=count+1\n",
    "    Y_data=labeller(i)\n",
    "    print(Y_data.shape)\n",
    "    if count==1:\n",
    "        Y_train_total=Y_data\n",
    "    else:\n",
    "        Y_train_total=np.concatenate((Y_train_total,Y_data))\n",
    "    print(Y_train_total.shape)\n"
   ]
  },
  {
   "cell_type": "code",
   "execution_count": null,
   "metadata": {},
   "outputs": [],
   "source": [
    "def trainer(X_train, y_train):\n",
    "\n",
    "    model = Sequential()\n",
    "\n",
    "    input_shape=(X_train.shape[1],X_train.shape[2])\n",
    "\n",
    "    model.add(LSTM(units=11,return_sequences=True,input_shape=input_shape))\n",
    "    model.add(Dropout(0.2))\n",
    "\n",
    "    model.add(LSTM(units=16,return_sequences=True))\n",
    "    model.add(Dropout(0.2))\n",
    "\n",
    "\n",
    "    model.add(LSTM(units=16,return_sequences=True))\n",
    "    model.add(Dropout(0.2))\n",
    "\n",
    "    model.add(LSTM(units=16,input_shape=input_shape)) #16 units previously\n",
    "    model.add(Dropout(0.2))\n",
    "\n",
    "    #model.add(Dense(units=4))\n",
    "    model.add(Dense(units=1, activation='sigmoid'))\n",
    "    \n",
    "    model.compile(optimizer='adam', loss='binary_crossentropy')\n",
    "    model.fit(X_train,y_train,epochs=50,batch_size=75)\n",
    "    \n",
    "    return model"
   ]
  },
  {
   "cell_type": "code",
   "execution_count": null,
   "metadata": {},
   "outputs": [],
   "source": []
  },
  {
   "cell_type": "code",
   "execution_count": null,
   "metadata": {},
   "outputs": [],
   "source": [
    "#import sklearn\n",
    "#from sklearn.model_selection import train_test_split\n",
    "#X_dataset = oversample(X_data)\n",
    "#y_dataset = labeller()\n",
    "#X_train, X_test, y_train, y_test = train_test_split(X_dataset, y_dataset, test_size=0.33, random_state=42)#\n",
    "#model = trainer(X_train, y_train)"
   ]
  },
  {
   "cell_type": "code",
   "execution_count": null,
   "metadata": {
    "scrolled": true
   },
   "outputs": [],
   "source": [
    "#y_pred = model.predict(X_test) > 0.5\n",
    "#print(accuracy_score(y_test, y_pred))"
   ]
  },
  {
   "cell_type": "code",
   "execution_count": null,
   "metadata": {},
   "outputs": [],
   "source": []
  },
  {
   "cell_type": "code",
   "execution_count": null,
   "metadata": {},
   "outputs": [],
   "source": [
    "#model.predict(X_test)"
   ]
  },
  {
   "cell_type": "code",
   "execution_count": null,
   "metadata": {},
   "outputs": [],
   "source": []
  }
 ],
 "metadata": {
  "kernelspec": {
   "display_name": "Python 3",
   "language": "python",
   "name": "python3"
  },
  "language_info": {
   "codemirror_mode": {
    "name": "ipython",
    "version": 3
   },
   "file_extension": ".py",
   "mimetype": "text/x-python",
   "name": "python",
   "nbconvert_exporter": "python",
   "pygments_lexer": "ipython3",
   "version": "3.7.6"
  }
 },
 "nbformat": 4,
 "nbformat_minor": 2
}
