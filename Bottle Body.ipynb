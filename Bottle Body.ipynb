{
 "cells": [
  {
   "cell_type": "code",
   "execution_count": 5,
   "metadata": {},
   "outputs": [],
   "source": [
    "from keras.layers import LSTM\n",
    "from keras.models import Sequential, Model\n",
    "from keras.layers import Input, Dense, Flatten, Dropout, Activation, Lambda, Permute, Reshape\n",
    "import numpy as np\n",
    "from sklearn.model_selection import train_test_split"
   ]
  },
  {
   "cell_type": "code",
   "execution_count": 2,
   "metadata": {},
   "outputs": [],
   "source": [
    "from numpy import load\n",
    "from keras import losses"
   ]
  },
  {
   "cell_type": "code",
   "execution_count": 7,
   "metadata": {},
   "outputs": [],
   "source": [
    "X_train=load('The_woman.npy')"
   ]
  },
  {
   "cell_type": "code",
   "execution_count": 3,
   "metadata": {},
   "outputs": [],
   "source": [
    "Y_train=np.ones((10,1))"
   ]
  },
  {
   "cell_type": "code",
   "execution_count": 8,
   "metadata": {},
   "outputs": [],
   "source": [
    "X_train, X_test, y_train, y_test = train_test_split(X_train,Y_train, test_size=0.1)"
   ]
  },
  {
   "cell_type": "code",
   "execution_count": 9,
   "metadata": {},
   "outputs": [
    {
     "name": "stdout",
     "output_type": "stream",
     "text": [
      "WARNING:tensorflow:From C:\\Users\\Om\\Anaconda3\\lib\\site-packages\\keras\\backend\\tensorflow_backend.py:74: The name tf.get_default_graph is deprecated. Please use tf.compat.v1.get_default_graph instead.\n",
      "\n",
      "WARNING:tensorflow:From C:\\Users\\Om\\Anaconda3\\lib\\site-packages\\keras\\backend\\tensorflow_backend.py:517: The name tf.placeholder is deprecated. Please use tf.compat.v1.placeholder instead.\n",
      "\n",
      "WARNING:tensorflow:From C:\\Users\\Om\\Anaconda3\\lib\\site-packages\\keras\\backend\\tensorflow_backend.py:4138: The name tf.random_uniform is deprecated. Please use tf.random.uniform instead.\n",
      "\n",
      "WARNING:tensorflow:From C:\\Users\\Om\\Anaconda3\\lib\\site-packages\\keras\\backend\\tensorflow_backend.py:133: The name tf.placeholder_with_default is deprecated. Please use tf.compat.v1.placeholder_with_default instead.\n",
      "\n",
      "WARNING:tensorflow:From C:\\Users\\Om\\Anaconda3\\lib\\site-packages\\keras\\backend\\tensorflow_backend.py:3445: calling dropout (from tensorflow.python.ops.nn_ops) with keep_prob is deprecated and will be removed in a future version.\n",
      "Instructions for updating:\n",
      "Please use `rate` instead of `keep_prob`. Rate should be set to `rate = 1 - keep_prob`.\n"
     ]
    }
   ],
   "source": [
    "model = Sequential()\n",
    "\n",
    "input_shape=(X_train.shape[1],X_train.shape[2])\n",
    "\n",
    "model.add(LSTM(units=11,return_sequences=True,input_shape=input_shape))\n",
    "model.add(Dropout(0.3))\n",
    "\n",
    "model.add(LSTM(units=16,return_sequences=True))\n",
    "model.add(Dropout(0.3))\n",
    "\n",
    "\n",
    "model.add(LSTM(units=32,return_sequences=True))\n",
    "model.add(Dropout(0.3))\n",
    "\n",
    "\n",
    "model.add(LSTM(units=32,return_sequences=True))\n",
    "model.add(Dropout(0.3))\n",
    "\n",
    "model.add(LSTM(units=64,return_sequences=True))\n",
    "model.add(Dropout(0.3))\n",
    "\n",
    "model.add(LSTM(units=16,return_sequences=True))\n",
    "model.add(Dropout(0.3))\n",
    "\n",
    "model.add(LSTM(units=16,input_shape=input_shape)) #16 units previously\n",
    "model.add(Dropout(0.3))\n",
    "\n",
    "#model.add(Dense(units=4))\n",
    "model.add(Dense(units=1, activation='sigmoid'))"
   ]
  },
  {
   "cell_type": "code",
   "execution_count": 11,
   "metadata": {},
   "outputs": [
    {
     "name": "stdout",
     "output_type": "stream",
     "text": [
      "WARNING:tensorflow:From C:\\Users\\Om\\Anaconda3\\lib\\site-packages\\keras\\backend\\tensorflow_backend.py:986: The name tf.assign_add is deprecated. Please use tf.compat.v1.assign_add instead.\n",
      "\n",
      "WARNING:tensorflow:From C:\\Users\\Om\\Anaconda3\\lib\\site-packages\\keras\\backend\\tensorflow_backend.py:973: The name tf.assign is deprecated. Please use tf.compat.v1.assign instead.\n",
      "\n",
      "WARNING:tensorflow:From C:\\Users\\Om\\Anaconda3\\lib\\site-packages\\keras\\backend\\tensorflow_backend.py:2741: The name tf.Session is deprecated. Please use tf.compat.v1.Session instead.\n",
      "\n",
      "Epoch 1/20\n",
      "WARNING:tensorflow:From C:\\Users\\Om\\Anaconda3\\lib\\site-packages\\keras\\backend\\tensorflow_backend.py:174: The name tf.get_default_session is deprecated. Please use tf.compat.v1.get_default_session instead.\n",
      "\n",
      "WARNING:tensorflow:From C:\\Users\\Om\\Anaconda3\\lib\\site-packages\\keras\\backend\\tensorflow_backend.py:181: The name tf.ConfigProto is deprecated. Please use tf.compat.v1.ConfigProto instead.\n",
      "\n",
      "WARNING:tensorflow:From C:\\Users\\Om\\Anaconda3\\lib\\site-packages\\keras\\backend\\tensorflow_backend.py:190: The name tf.global_variables is deprecated. Please use tf.compat.v1.global_variables instead.\n",
      "\n",
      "WARNING:tensorflow:From C:\\Users\\Om\\Anaconda3\\lib\\site-packages\\keras\\backend\\tensorflow_backend.py:199: The name tf.is_variable_initialized is deprecated. Please use tf.compat.v1.is_variable_initialized instead.\n",
      "\n",
      "WARNING:tensorflow:From C:\\Users\\Om\\Anaconda3\\lib\\site-packages\\keras\\backend\\tensorflow_backend.py:206: The name tf.variables_initializer is deprecated. Please use tf.compat.v1.variables_initializer instead.\n",
      "\n",
      "9/9 [==============================] - 20s 2s/step - loss: 0.6940 - acc: 0.1111\n",
      "Epoch 2/20\n",
      "9/9 [==============================] - 0s 28ms/step - loss: 0.6870 - acc: 1.0000\n",
      "Epoch 3/20\n",
      "9/9 [==============================] - 0s 18ms/step - loss: 0.6806 - acc: 1.0000\n",
      "Epoch 4/20\n",
      "9/9 [==============================] - 0s 20ms/step - loss: 0.6723 - acc: 1.0000\n",
      "Epoch 5/20\n",
      "9/9 [==============================] - 0s 18ms/step - loss: 0.6660 - acc: 1.0000\n",
      "Epoch 6/20\n",
      "9/9 [==============================] - 0s 18ms/step - loss: 0.6611 - acc: 1.0000\n",
      "Epoch 7/20\n",
      "9/9 [==============================] - 0s 21ms/step - loss: 0.6527 - acc: 1.0000\n",
      "Epoch 8/20\n",
      "9/9 [==============================] - 0s 17ms/step - loss: 0.6437 - acc: 1.0000\n",
      "Epoch 9/20\n",
      "9/9 [==============================] - 0s 20ms/step - loss: 0.6454 - acc: 1.0000\n",
      "Epoch 10/20\n",
      "9/9 [==============================] - 0s 17ms/step - loss: 0.6091 - acc: 1.0000\n",
      "Epoch 11/20\n",
      "9/9 [==============================] - 0s 26ms/step - loss: 0.5849 - acc: 1.0000\n",
      "Epoch 12/20\n",
      "9/9 [==============================] - 0s 22ms/step - loss: 0.5982 - acc: 1.0000\n",
      "Epoch 13/20\n",
      "9/9 [==============================] - 0s 24ms/step - loss: 0.5765 - acc: 1.0000\n",
      "Epoch 14/20\n",
      "9/9 [==============================] - 0s 28ms/step - loss: 0.5429 - acc: 1.0000\n",
      "Epoch 15/20\n",
      "9/9 [==============================] - 0s 23ms/step - loss: 0.4996 - acc: 1.0000\n",
      "Epoch 16/20\n",
      "9/9 [==============================] - 0s 28ms/step - loss: 0.5004 - acc: 1.0000\n",
      "Epoch 17/20\n",
      "9/9 [==============================] - 0s 34ms/step - loss: 0.4620 - acc: 1.0000\n",
      "Epoch 18/20\n",
      "9/9 [==============================] - 0s 35ms/step - loss: 0.3990 - acc: 1.0000\n",
      "Epoch 19/20\n",
      "9/9 [==============================] - 0s 37ms/step - loss: 0.3921 - acc: 1.0000\n",
      "Epoch 20/20\n",
      "9/9 [==============================] - 0s 34ms/step - loss: 0.3591 - acc: 1.0000\n"
     ]
    },
    {
     "data": {
      "text/plain": [
       "<keras.callbacks.History at 0x2674588b808>"
      ]
     },
     "execution_count": 11,
     "metadata": {},
     "output_type": "execute_result"
    }
   ],
   "source": [
    "model.compile(optimizer='adam', loss='binary_crossentropy' ,metrics=['accuracy'])\n",
    "model.fit(X_train,y_train,epochs=20,batch_size=10)"
   ]
  },
  {
   "cell_type": "code",
   "execution_count": 14,
   "metadata": {},
   "outputs": [
    {
     "data": {
      "text/plain": [
       "array([[0.7538709]], dtype=float32)"
      ]
     },
     "execution_count": 14,
     "metadata": {},
     "output_type": "execute_result"
    }
   ],
   "source": [
    "model.predict_proba(X_test)"
   ]
  }
 ],
 "metadata": {
  "kernelspec": {
   "display_name": "Python 3",
   "language": "python",
   "name": "python3"
  },
  "language_info": {
   "codemirror_mode": {
    "name": "ipython",
    "version": 3
   },
   "file_extension": ".py",
   "mimetype": "text/x-python",
   "name": "python",
   "nbconvert_exporter": "python",
   "pygments_lexer": "ipython3",
   "version": "3.7.4"
  }
 },
 "nbformat": 4,
 "nbformat_minor": 2
}
