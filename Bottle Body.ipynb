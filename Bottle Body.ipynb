{
 "cells": [
  {
   "cell_type": "code",
   "execution_count": 2,
   "metadata": {},
   "outputs": [],
   "source": [
    "from keras.layers import LSTM\n",
    "from keras.models import Sequential, Model\n",
    "from keras.layers import Input, Dense, Flatten, Dropout, Activation, Lambda, Permute, Reshape\n",
    "import numpy as np"
   ]
  },
  {
   "cell_type": "code",
   "execution_count": 2,
   "metadata": {},
   "outputs": [],
   "source": [
    "from numpy import load\n",
    "from keras import losses"
   ]
  },
  {
   "cell_type": "code",
   "execution_count": 3,
   "metadata": {},
   "outputs": [],
   "source": [
    "#X_data=load('LSTM_input.npy')"
   ]
  },
  {
   "cell_type": "code",
   "execution_count": null,
   "metadata": {},
   "outputs": [],
   "source": [
    "### make it into functions"
   ]
  },
  {
   "cell_type": "markdown",
   "metadata": {},
   "source": [
    "### Oversampling"
   ]
  },
  {
   "cell_type": "code",
   "execution_count": 13,
   "metadata": {},
   "outputs": [],
   "source": [
    "#pos_over=load('FO1_f5.npy')\n",
    "#pos_over2=load('FO1_l5.npy')"
   ]
  },
  {
   "cell_type": "code",
   "execution_count": null,
   "metadata": {},
   "outputs": [],
   "source": [
    "def oversample(dataset):\n",
    "    pos_over_pos=pos_over_LSTM[1:6,:,:]\n",
    "    over_sample=[]\n",
    "    for i in range(20):\n",
    "        if i == 0:\n",
    "            over_sample=pos_over_pos\n",
    "        else:\n",
    "            over_sample=np.concatenate((over_sample,pos_over_pos))\n",
    "        print(over_sample.shape)\n",
    "        \n",
    "    neg_over_neg = pos_over_LSTM[6:16, :, :]\n",
    "    over_sample_neg=[]\n",
    "    for i in range(10):\n",
    "        if i == 0:\n",
    "            over_sample_neg=neg_over_neg\n",
    "        else:\n",
    "            over_sample_neg=np.concatenate((over_sample_neg,neg_over_neg))\n",
    "        print(over_sample_neg.shape)\n",
    "        \n",
    "        \n",
    "    X_data_over_sample_pos=np.concatenate((X_data,over_sample))\n",
    "    X_data_over_sample=np.concatenate((X_data_over_sample_pos,over_sample_neg))\n",
    "    \n",
    "    print(X_data_over_sample.shape)\n",
    "    return X_data_over_sample"
   ]
  },
  {
   "cell_type": "markdown",
   "metadata": {},
   "source": [
    "over_sample=[]\n",
    "for i in range(10):\n",
    "    if i == 0:\n",
    "        over_sample=pos_over_pos\n",
    "    else:\n",
    "        over_sample=np.concatenate((over_sample,pos_over_pos))\n",
    "    print(over_sample.shape)"
   ]
  },
  {
   "cell_type": "code",
   "execution_count": 25,
   "metadata": {},
   "outputs": [],
   "source": [
    "def labeller(personID):\n",
    "\n",
    "    Y_train_p=np.ones((105,1))\n",
    "    Y_train_n=np.zeros((410,1))\n",
    "    Y_data=np.concatenate((Y_train_p,Y_train_n))\n",
    "\n",
    "    return Y_data"
   ]
  },
  {
   "cell_type": "markdown",
   "metadata": {},
   "source": [
    "count=0\n",
    "for i in range(5):\n",
    "    count=count+1\n",
    "    Y_data=labeller(i)\n",
    "    print(Y_data.shape)\n",
    "    if count==1:\n",
    "        Y_train_total=Y_data\n",
    "    else:\n",
    "        Y_train_total=np.concatenate((Y_train_total,Y_data))\n",
    "    print(Y_train_total.shape)\n"
   ]
  },
  {
   "cell_type": "code",
   "execution_count": 31,
   "metadata": {},
   "outputs": [],
   "source": [
    "def trainer(X_train, y_train)\n",
    "\n",
    "    model = Sequential()\n",
    "\n",
    "    input_shape=(X_train.shape[1],X_train.shape[2])\n",
    "\n",
    "    model.add(LSTM(units=11,return_sequences=True,input_shape=input_shape))\n",
    "    model.add(Dropout(0.2))\n",
    "\n",
    "    model.add(LSTM(units=16,return_sequences=True))\n",
    "    model.add(Dropout(0.2))\n",
    "\n",
    "\n",
    "    model.add(LSTM(units=16,return_sequences=True))\n",
    "    model.add(Dropout(0.2))\n",
    "\n",
    "    model.add(LSTM(units=16,input_shape=input_shape)) #16 units previously\n",
    "    model.add(Dropout(0.2))\n",
    "\n",
    "    #model.add(Dense(units=4))\n",
    "    model.add(Dense(units=1, activation='sigmoid'))\n",
    "    \n",
    "    model.compile(optimizer='adam', loss='binary_crossentropy')\n",
    "    model.fit(X_train,y_train,epochs=50,batch_size=75)\n",
    "    \n",
    "    return model"
   ]
  },
  {
   "cell_type": "code",
   "execution_count": 44,
   "metadata": {
    "scrolled": true
   },
   "outputs": [
    {
     "data": {
      "text/plain": [
       "array([[7.39902258e-04],\n",
       "       [7.43746758e-04],\n",
       "       [7.44044781e-04],\n",
       "       [7.41064548e-04],\n",
       "       [7.42286444e-04],\n",
       "       [7.47144222e-04],\n",
       "       [1.38691068e-03],\n",
       "       [9.95861948e-01],\n",
       "       [7.43508339e-04],\n",
       "       [7.40498304e-04],\n",
       "       [7.39991665e-04],\n",
       "       [7.36743212e-04],\n",
       "       [9.95861948e-01],\n",
       "       [2.14764714e-01],\n",
       "       [2.94793665e-01],\n",
       "       [7.39544630e-04],\n",
       "       [7.38620758e-04],\n",
       "       [7.40915537e-04],\n",
       "       [7.40110874e-04],\n",
       "       [7.48395920e-04],\n",
       "       [1.66117013e-01],\n",
       "       [7.38412142e-04],\n",
       "       [7.42197037e-04],\n",
       "       [7.37667084e-04],\n",
       "       [3.00736547e-01],\n",
       "       [7.44909048e-04],\n",
       "       [7.46607780e-04],\n",
       "       [7.38650560e-04],\n",
       "       [9.95861948e-01],\n",
       "       [7.40110874e-04],\n",
       "       [9.93950665e-01],\n",
       "       [7.39306211e-04],\n",
       "       [7.36951828e-04],\n",
       "       [7.45087862e-04],\n",
       "       [7.39157200e-04],\n",
       "       [7.14072585e-03],\n",
       "       [9.95861948e-01],\n",
       "       [7.48425722e-04],\n",
       "       [7.42107630e-04],\n",
       "       [7.39663839e-04],\n",
       "       [7.39216805e-04],\n",
       "       [7.41869211e-04],\n",
       "       [8.95321369e-04],\n",
       "       [7.36922026e-04],\n",
       "       [9.95861948e-01],\n",
       "       [7.36713409e-04],\n",
       "       [7.36027956e-04],\n",
       "       [7.35968351e-04],\n",
       "       [8.29981863e-02],\n",
       "       [7.39216805e-04],\n",
       "       [7.43091106e-04],\n",
       "       [7.38561153e-04],\n",
       "       [7.38590956e-04],\n",
       "       [7.44789839e-04],\n",
       "       [7.38888979e-04],\n",
       "       [1.89346075e-03],\n",
       "       [7.40975142e-04],\n",
       "       [7.39276409e-04],\n",
       "       [7.36117363e-04],\n",
       "       [9.95861948e-01],\n",
       "       [7.41988420e-04],\n",
       "       [7.38650560e-04],\n",
       "       [9.95861948e-01],\n",
       "       [7.43508339e-04],\n",
       "       [7.44283199e-04],\n",
       "       [7.37518072e-04],\n",
       "       [7.44014978e-04],\n",
       "       [9.81975615e-01],\n",
       "       [7.41004944e-04],\n",
       "       [7.39306211e-04],\n",
       "       [7.38650560e-04],\n",
       "       [7.43925571e-04],\n",
       "       [9.95861948e-01],\n",
       "       [7.40021467e-04],\n",
       "       [9.95861948e-01],\n",
       "       [7.46577978e-04],\n",
       "       [7.36981630e-04],\n",
       "       [7.39663839e-04],\n",
       "       [7.40200281e-04],\n",
       "       [1.42756104e-03],\n",
       "       [7.54922628e-04],\n",
       "       [7.38590956e-04],\n",
       "       [7.39157200e-04],\n",
       "       [7.40230083e-04],\n",
       "       [9.81975615e-01],\n",
       "       [7.37875700e-04],\n",
       "       [7.37577677e-04],\n",
       "       [9.95861948e-01],\n",
       "       [7.43865967e-04],\n",
       "       [9.95861948e-01],\n",
       "       [7.38680363e-04],\n",
       "       [1.92174315e-03],\n",
       "       [7.40468502e-04],\n",
       "       [9.81975615e-01],\n",
       "       [7.38561153e-04],\n",
       "       [7.36981630e-04],\n",
       "       [7.43001699e-04],\n",
       "       [7.43895769e-04],\n",
       "       [1.65685862e-01],\n",
       "       [7.42197037e-04],\n",
       "       [7.39187002e-04],\n",
       "       [7.38739967e-04],\n",
       "       [9.95861948e-01],\n",
       "       [7.38888979e-04],\n",
       "       [7.41869211e-04],\n",
       "       [7.37756491e-04],\n",
       "       [9.95861948e-01],\n",
       "       [1.05454326e-01],\n",
       "       [7.35998154e-04],\n",
       "       [7.38829374e-04],\n",
       "       [7.37667084e-04],\n",
       "       [7.42048025e-04],\n",
       "       [7.38650560e-04],\n",
       "       [1.88723207e-03],\n",
       "       [9.93950665e-01],\n",
       "       [7.39544630e-04],\n",
       "       [7.40140676e-04],\n",
       "       [7.38590956e-04],\n",
       "       [7.42256641e-04],\n",
       "       [7.39842653e-04]], dtype=float32)"
      ]
     },
     "execution_count": 44,
     "metadata": {},
     "output_type": "execute_result"
    }
   ],
   "source": [
    "model.predict(X_test)  > 0.5"
   ]
  },
  {
   "cell_type": "code",
   "execution_count": 45,
   "metadata": {},
   "outputs": [],
   "source": [
    "scores=model.evaluate(X_test,y_test,verbose=0)"
   ]
  },
  {
   "cell_type": "code",
   "execution_count": 46,
   "metadata": {},
   "outputs": [
    {
     "name": "stdout",
     "output_type": "stream",
     "text": [
      "[0.014267083443701267, 1.0]\n"
     ]
    }
   ],
   "source": [
    "print(scores)"
   ]
  }
 ],
 "metadata": {
  "kernelspec": {
   "display_name": "Python 3",
   "language": "python",
   "name": "python3"
  },
  "language_info": {
   "codemirror_mode": {
    "name": "ipython",
    "version": 3
   },
   "file_extension": ".py",
   "mimetype": "text/x-python",
   "name": "python",
   "nbconvert_exporter": "python",
   "pygments_lexer": "ipython3",
   "version": "3.7.6"
  }
 },
 "nbformat": 4,
 "nbformat_minor": 2
}
