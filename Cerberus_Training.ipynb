{
 "cells": [
  {
   "cell_type": "markdown",
   "metadata": {},
   "source": [
    "### Video slicing"
   ]
  },
  {
   "cell_type": "code",
   "execution_count": 25,
   "metadata": {},
   "outputs": [],
   "source": [
    "%run C:\\\\Users\\\\Om\\\\Desktop\\\\Cerberus\\\\Library\\\\VideoNinja.ipynb"
   ]
  },
  {
   "cell_type": "code",
   "execution_count": 27,
   "metadata": {},
   "outputs": [
    {
     "data": {
      "text/plain": [
       "0"
      ]
     },
     "execution_count": 27,
     "metadata": {},
     "output_type": "execute_result"
    }
   ],
   "source": [
    "VideoSlicer('C:\\\\Users\\\\Om\\\\Desktop\\\\Cerberus\\\\videos',False)"
   ]
  },
  {
   "cell_type": "markdown",
   "metadata": {},
   "source": [
    "### Cropper"
   ]
  },
  {
   "cell_type": "code",
   "execution_count": 28,
   "metadata": {},
   "outputs": [],
   "source": [
    "%run C:\\\\Users\\\\Om\\\\Desktop\\\\Cerberus\\\\Library\\\\Cropper.ipynb"
   ]
  },
  {
   "cell_type": "code",
   "execution_count": 29,
   "metadata": {},
   "outputs": [
    {
     "data": {
      "text/plain": [
       "0"
      ]
     },
     "execution_count": 29,
     "metadata": {},
     "output_type": "execute_result"
    }
   ],
   "source": [
    "Cropper('C:\\\\Users\\\\Om\\\\Desktop\\\\Cerberus\\\\photos',1)"
   ]
  },
  {
   "cell_type": "markdown",
   "metadata": {},
   "source": [
    "### Access Bottleneck"
   ]
  },
  {
   "cell_type": "code",
   "execution_count": 9,
   "metadata": {},
   "outputs": [
    {
     "name": "stderr",
     "output_type": "stream",
     "text": [
      "C:\\Users\\Om\\Anaconda3\\envs\\opencv\\lib\\site-packages\\keras\\engine\\saving.py:341: UserWarning: No training configuration found in save file: the model was *not* compiled. Compile it manually.\n",
      "  warnings.warn('No training configuration found in save file: '\n"
     ]
    }
   ],
   "source": [
    "%run C:\\\\Users\\\\Om\\\\Desktop\\\\Cerberus\\\\Library\\\\BottleNeck_Training.ipynb"
   ]
  },
  {
   "cell_type": "code",
   "execution_count": 10,
   "metadata": {},
   "outputs": [
    {
     "name": "stdout",
     "output_type": "stream",
     "text": [
      "(20, 2622)\n",
      "(40, 2622)\n",
      "(60, 2622)\n",
      "(80, 2622)\n",
      "(100, 2622)\n",
      "(20, 2622)\n",
      "(40, 2622)\n",
      "(60, 2622)\n",
      "(80, 2622)\n",
      "(100, 2622)\n",
      "(20, 2622)\n",
      "(40, 2622)\n",
      "(60, 2622)\n",
      "(80, 2622)\n",
      "(100, 2622)\n",
      "(300, 2622)\n",
      "person done\n"
     ]
    }
   ],
   "source": [
    "Target_dataset=BottleNeck('C:\\\\Users\\\\Om\\\\Desktop\\\\Cerberus\\\\photos')"
   ]
  },
  {
   "cell_type": "markdown",
   "metadata": {},
   "source": [
    "### Access Bottle Body"
   ]
  },
  {
   "cell_type": "code",
   "execution_count": 11,
   "metadata": {},
   "outputs": [],
   "source": [
    "dataset_reshaped=Target_dataset.reshape(15,20,2622) # ********"
   ]
  },
  {
   "cell_type": "code",
   "execution_count": 6,
   "metadata": {},
   "outputs": [
    {
     "name": "stderr",
     "output_type": "stream",
     "text": [
      "Using TensorFlow backend.\n"
     ]
    }
   ],
   "source": [
    "%run C:\\\\Users\\\\Om\\\\Desktop\\\\Cerberus\\\\Library\\\\BottleBody.ipynb"
   ]
  },
  {
   "cell_type": "code",
   "execution_count": 12,
   "metadata": {},
   "outputs": [
    {
     "name": "stdout",
     "output_type": "stream",
     "text": [
      "(5, 20, 2622)\n",
      "(10, 20, 2622)\n",
      "(15, 20, 2622)\n",
      "(20, 20, 2622)\n",
      "(25, 20, 2622)\n",
      "(30, 20, 2622)\n",
      "(35, 20, 2622)\n",
      "(40, 20, 2622)\n",
      "(45, 20, 2622)\n",
      "(50, 20, 2622)\n",
      "(55, 20, 2622)\n",
      "(60, 20, 2622)\n",
      "(65, 20, 2622)\n",
      "(70, 20, 2622)\n",
      "(75, 20, 2622)\n",
      "(80, 20, 2622)\n",
      "(85, 20, 2622)\n",
      "(90, 20, 2622)\n",
      "(95, 20, 2622)\n",
      "(100, 20, 2622)\n",
      "(10, 20, 2622)\n",
      "(215, 20, 2622)\n"
     ]
    }
   ],
   "source": [
    "X_dataset_without_neg = oversample(dataset_reshaped)"
   ]
  },
  {
   "cell_type": "code",
   "execution_count": 4,
   "metadata": {},
   "outputs": [],
   "source": [
    "from numpy import load\n",
    "pre_trained=load('C:\\\\Users\\\\Om\\\\Desktop\\\\Cerberus\\\\Stored_negative\\\\Stored_negative_LSTM.npy')"
   ]
  },
  {
   "cell_type": "code",
   "execution_count": 13,
   "metadata": {},
   "outputs": [],
   "source": [
    "X_dataset=np.concatenate((X_dataset_without_neg,pre_trained))"
   ]
  },
  {
   "cell_type": "code",
   "execution_count": 14,
   "metadata": {},
   "outputs": [],
   "source": [
    "y_dataset = labeller()"
   ]
  },
  {
   "cell_type": "code",
   "execution_count": 15,
   "metadata": {},
   "outputs": [
    {
     "name": "stdout",
     "output_type": "stream",
     "text": [
      "Epoch 1/50\n",
      "415/415 [==============================] - 4s 9ms/step - loss: 0.6874\n",
      "Epoch 2/50\n",
      "415/415 [==============================] - 1s 2ms/step - loss: 0.6667\n",
      "Epoch 3/50\n",
      "415/415 [==============================] - 1s 2ms/step - loss: 0.6303\n",
      "Epoch 4/50\n",
      "415/415 [==============================] - 1s 2ms/step - loss: 0.5800\n",
      "Epoch 5/50\n",
      "415/415 [==============================] - 1s 2ms/step - loss: 0.5555\n",
      "Epoch 6/50\n",
      "415/415 [==============================] - 1s 2ms/step - loss: 0.5557\n",
      "Epoch 7/50\n",
      "415/415 [==============================] - 1s 2ms/step - loss: 0.5369\n",
      "Epoch 8/50\n",
      "415/415 [==============================] - 1s 2ms/step - loss: 0.5230\n",
      "Epoch 9/50\n",
      "415/415 [==============================] - 1s 2ms/step - loss: 0.4830\n",
      "Epoch 10/50\n",
      "415/415 [==============================] - 1s 2ms/step - loss: 0.4362\n",
      "Epoch 11/50\n",
      "415/415 [==============================] - 1s 2ms/step - loss: 0.3821\n",
      "Epoch 12/50\n",
      "415/415 [==============================] - 1s 2ms/step - loss: 0.3560\n",
      "Epoch 13/50\n",
      "415/415 [==============================] - 1s 2ms/step - loss: 0.3152\n",
      "Epoch 14/50\n",
      "415/415 [==============================] - 1s 2ms/step - loss: 0.2718\n",
      "Epoch 15/50\n",
      "415/415 [==============================] - 1s 2ms/step - loss: 0.2388\n",
      "Epoch 16/50\n",
      "415/415 [==============================] - 1s 2ms/step - loss: 0.1953\n",
      "Epoch 17/50\n",
      "415/415 [==============================] - 1s 2ms/step - loss: 0.1428\n",
      "Epoch 18/50\n",
      "415/415 [==============================] - 1s 2ms/step - loss: 0.1086\n",
      "Epoch 19/50\n",
      "415/415 [==============================] - 1s 2ms/step - loss: 0.0880\n",
      "Epoch 20/50\n",
      "415/415 [==============================] - 1s 2ms/step - loss: 0.0744\n",
      "Epoch 21/50\n",
      "415/415 [==============================] - 1s 2ms/step - loss: 0.0635\n",
      "Epoch 22/50\n",
      "415/415 [==============================] - 1s 2ms/step - loss: 0.0538\n",
      "Epoch 23/50\n",
      "415/415 [==============================] - 1s 2ms/step - loss: 0.0455\n",
      "Epoch 24/50\n",
      "415/415 [==============================] - 1s 2ms/step - loss: 0.0398\n",
      "Epoch 25/50\n",
      "415/415 [==============================] - 1s 2ms/step - loss: 0.0360\n",
      "Epoch 26/50\n",
      "415/415 [==============================] - 1s 2ms/step - loss: 0.0319\n",
      "Epoch 27/50\n",
      "415/415 [==============================] - 1s 2ms/step - loss: 0.0284\n",
      "Epoch 28/50\n",
      "415/415 [==============================] - 1s 2ms/step - loss: 0.0267\n",
      "Epoch 29/50\n",
      "415/415 [==============================] - 1s 2ms/step - loss: 0.0232\n",
      "Epoch 30/50\n",
      "415/415 [==============================] - 1s 2ms/step - loss: 0.0215\n",
      "Epoch 31/50\n",
      "415/415 [==============================] - 1s 2ms/step - loss: 0.0205\n",
      "Epoch 32/50\n",
      "415/415 [==============================] - 1s 2ms/step - loss: 0.0174\n",
      "Epoch 33/50\n",
      "415/415 [==============================] - 1s 2ms/step - loss: 0.0163\n",
      "Epoch 34/50\n",
      "415/415 [==============================] - 1s 2ms/step - loss: 0.0149\n",
      "Epoch 35/50\n",
      "415/415 [==============================] - 1s 2ms/step - loss: 0.0139\n",
      "Epoch 36/50\n",
      "415/415 [==============================] - 1s 2ms/step - loss: 0.0144\n",
      "Epoch 37/50\n",
      "415/415 [==============================] - 1s 2ms/step - loss: 0.0123\n",
      "Epoch 38/50\n",
      "415/415 [==============================] - 1s 2ms/step - loss: 0.0113\n",
      "Epoch 39/50\n",
      "415/415 [==============================] - 1s 2ms/step - loss: 0.0109\n",
      "Epoch 40/50\n",
      "415/415 [==============================] - 1s 2ms/step - loss: 0.0104\n",
      "Epoch 41/50\n",
      "415/415 [==============================] - 1s 2ms/step - loss: 0.0098\n",
      "Epoch 42/50\n",
      "415/415 [==============================] - 1s 2ms/step - loss: 0.0087\n",
      "Epoch 43/50\n",
      "415/415 [==============================] - 1s 2ms/step - loss: 0.0085\n",
      "Epoch 44/50\n",
      "415/415 [==============================] - 1s 2ms/step - loss: 0.0076\n",
      "Epoch 45/50\n",
      "415/415 [==============================] - 1s 2ms/step - loss: 0.0089\n",
      "Epoch 46/50\n",
      "415/415 [==============================] - 1s 2ms/step - loss: 0.0075\n",
      "Epoch 47/50\n",
      "415/415 [==============================] - 1s 2ms/step - loss: 0.0065\n",
      "Epoch 48/50\n",
      "415/415 [==============================] - 1s 2ms/step - loss: 0.0068\n",
      "Epoch 49/50\n",
      "415/415 [==============================] - 1s 2ms/step - loss: 0.0067\n",
      "Epoch 50/50\n",
      "415/415 [==============================] - 1s 2ms/step - loss: 0.0063\n"
     ]
    }
   ],
   "source": [
    "model = trainer(X_dataset, y_dataset)\n"
   ]
  },
  {
   "cell_type": "code",
   "execution_count": 16,
   "metadata": {},
   "outputs": [],
   "source": [
    "model.save('Water_Bottle.h5')"
   ]
  }
 ],
 "metadata": {
  "kernelspec": {
   "display_name": "Python 3",
   "language": "python",
   "name": "python3"
  },
  "language_info": {
   "codemirror_mode": {
    "name": "ipython",
    "version": 3
   },
   "file_extension": ".py",
   "mimetype": "text/x-python",
   "name": "python",
   "nbconvert_exporter": "python",
   "pygments_lexer": "ipython3",
   "version": "3.7.6"
  }
 },
 "nbformat": 4,
 "nbformat_minor": 2
}
