{
  "nbformat": 4,
  "nbformat_minor": 0,
  "metadata": {
    "kernelspec": {
      "display_name": "Python 3",
      "language": "python",
      "name": "python3"
    },
    "language_info": {
      "codemirror_mode": {
        "name": "ipython",
        "version": 3
      },
      "file_extension": ".py",
      "mimetype": "text/x-python",
      "name": "python",
      "nbconvert_exporter": "python",
      "pygments_lexer": "ipython3",
      "version": "3.7.6"
    },
    "colab": {
      "name": "Cerberus_Training.ipynb",
      "provenance": [],
      "include_colab_link": true
    }
  },
  "cells": [
    {
      "cell_type": "markdown",
      "metadata": {
        "id": "view-in-github",
        "colab_type": "text"
      },
      "source": [
        "<a href=\"https://colab.research.google.com/github/Mohit-Mithra/AuthNet/blob/master/Cerberus_Training.ipynb\" target=\"_parent\"><img src=\"https://colab.research.google.com/assets/colab-badge.svg\" alt=\"Open In Colab\"/></a>"
      ]
    },
    {
      "cell_type": "code",
      "metadata": {
        "id": "9nsrT6-T1ooG"
      },
      "source": [
        "from numpy import load"
      ],
      "execution_count": null,
      "outputs": []
    },
    {
      "cell_type": "markdown",
      "metadata": {
        "id": "OucOnGKjwXSm"
      },
      "source": [
        "### Video slicing"
      ]
    },
    {
      "cell_type": "code",
      "metadata": {
        "id": "PlMEoXyCwXS1"
      },
      "source": [
        "%run ..\\\\Cerberus\\\\Library\\\\VideoNinja.ipynb"
      ],
      "execution_count": null,
      "outputs": []
    },
    {
      "cell_type": "code",
      "metadata": {
        "id": "h9khHHpJwXS2"
      },
      "source": [
        "VideoSlicer('..Cerberus\\\\videos',False)"
      ],
      "execution_count": null,
      "outputs": []
    },
    {
      "cell_type": "markdown",
      "metadata": {
        "id": "BY1qMsMQwXS4"
      },
      "source": [
        "### Cropper"
      ]
    },
    {
      "cell_type": "code",
      "metadata": {
        "id": "wT8Uwc5MwXS5"
      },
      "source": [
        "%run ..\\\\Cerberus\\\\Library\\\\Cropper.ipynb"
      ],
      "execution_count": null,
      "outputs": []
    },
    {
      "cell_type": "code",
      "metadata": {
        "id": "FSCOruZEwXS6"
      },
      "source": [
        "Cropper('..\\\\Cerberus\\\\photos',1)"
      ],
      "execution_count": null,
      "outputs": []
    },
    {
      "cell_type": "markdown",
      "metadata": {
        "id": "pycnV-idwXS7"
      },
      "source": [
        "### Access Bottleneck"
      ]
    },
    {
      "cell_type": "code",
      "metadata": {
        "id": "5LpyXfDBwXS7"
      },
      "source": [
        "%run ..\\\\Cerberus\\\\Library\\\\BottleNeck_Training.ipynb"
      ],
      "execution_count": null,
      "outputs": []
    },
    {
      "cell_type": "code",
      "metadata": {
        "id": "FzR6xs9RwXS8"
      },
      "source": [
        "Target_dataset=BottleNeck('..\\\\Cerberus\\\\photos')"
      ],
      "execution_count": null,
      "outputs": []
    },
    {
      "cell_type": "markdown",
      "metadata": {
        "id": "ohDOeshYwXS9"
      },
      "source": [
        "### Access Bottle Body"
      ]
    },
    {
      "cell_type": "code",
      "metadata": {
        "id": "kNJn10WOwXS9"
      },
      "source": [
        "dataset_reshaped=Target_dataset.reshape(15,20,2622) "
      ],
      "execution_count": null,
      "outputs": []
    },
    {
      "cell_type": "code",
      "metadata": {
        "id": "0H3KIjMzwXS-"
      },
      "source": [
        "%run ..\\\\Cerberus\\\\Library\\\\BottleBody.ipynb"
      ],
      "execution_count": null,
      "outputs": []
    },
    {
      "cell_type": "code",
      "metadata": {
        "id": "7ceQrs3xwXS_"
      },
      "source": [
        "X_dataset_without_neg = oversample(dataset_reshaped)"
      ],
      "execution_count": null,
      "outputs": []
    },
    {
      "cell_type": "code",
      "metadata": {
        "id": "nV247xbowXS_"
      },
      "source": [
        "pre_trained=load('..\\\\Cerberus\\\\Stored_negative\\\\Stored_negative_LSTM.npy')"
      ],
      "execution_count": null,
      "outputs": []
    },
    {
      "cell_type": "code",
      "metadata": {
        "id": "sirBtirWwXTA"
      },
      "source": [
        "X_dataset=np.concatenate((X_dataset_without_neg,pre_trained))"
      ],
      "execution_count": null,
      "outputs": []
    },
    {
      "cell_type": "code",
      "metadata": {
        "id": "B3JHWaZZwXTA"
      },
      "source": [
        "y_dataset = labeller()"
      ],
      "execution_count": null,
      "outputs": []
    },
    {
      "cell_type": "code",
      "metadata": {
        "id": "hZ32RyK0wXTB"
      },
      "source": [
        "model = trainer(X_dataset, y_dataset)"
      ],
      "execution_count": null,
      "outputs": []
    },
    {
      "cell_type": "code",
      "metadata": {
        "id": "41XzxC_RwXTB"
      },
      "source": [
        "model.save('Water_Bottle.h5')"
      ],
      "execution_count": null,
      "outputs": []
    }
  ]
}