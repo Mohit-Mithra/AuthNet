{
 "cells": [
  {
   "cell_type": "code",
   "execution_count": 1,
   "metadata": {},
   "outputs": [
    {
     "name": "stderr",
     "output_type": "stream",
     "text": [
      "Using TensorFlow backend.\n"
     ]
    }
   ],
   "source": [
    "from keras.layers import LSTM\n",
    "from keras.models import Sequential, Model\n",
    "from keras.layers import Input, Dense, Flatten, Dropout, Activation, Lambda, Permute, Reshape\n",
    "import numpy as np\n",
    "from sklearn.model_selection import train_test_split"
   ]
  },
  {
   "cell_type": "code",
   "execution_count": 2,
   "metadata": {},
   "outputs": [],
   "source": [
    "from numpy import load\n",
    "from keras import losses"
   ]
  },
  {
   "cell_type": "code",
   "execution_count": 3,
   "metadata": {},
   "outputs": [],
   "source": [
    "X_data=load('LSTM_input.npy')"
   ]
  },
  {
   "cell_type": "code",
   "execution_count": 13,
   "metadata": {},
   "outputs": [],
   "source": [
    "pos_over=load('FO1_f5.npy')\n",
    "pos_over2=load('FO1_l5.npy')"
   ]
  },
  {
   "cell_type": "code",
   "execution_count": 18,
   "metadata": {},
   "outputs": [],
   "source": [
    "pos_over_total=np.concatenate((pos_over,pos_over2))\n",
    "pos_over_total.shape\n",
    "pos_over_LSTM=pos_over_total.reshape((100,20,512))"
   ]
  },
  {
   "cell_type": "code",
   "execution_count": 21,
   "metadata": {},
   "outputs": [
    {
     "name": "stdout",
     "output_type": "stream",
     "text": [
      "(10, 20, 512)\n"
     ]
    }
   ],
   "source": [
    "pos_over_pos=pos_over_LSTM[1:11,:,:]\n",
    "print(pos_over_pos.shape)"
   ]
  },
  {
   "cell_type": "code",
   "execution_count": 22,
   "metadata": {},
   "outputs": [
    {
     "name": "stdout",
     "output_type": "stream",
     "text": [
      "(10, 20, 512)\n",
      "(20, 20, 512)\n",
      "(30, 20, 512)\n",
      "(40, 20, 512)\n",
      "(50, 20, 512)\n",
      "(60, 20, 512)\n",
      "(70, 20, 512)\n",
      "(80, 20, 512)\n",
      "(90, 20, 512)\n",
      "(100, 20, 512)\n"
     ]
    }
   ],
   "source": [
    "over_sample=[]\n",
    "for i in range(10):\n",
    "    if i == 0:\n",
    "        over_sample=pos_over_pos\n",
    "    else:\n",
    "        over_sample=np.concatenate((over_sample,pos_over_pos))\n",
    "    print(over_sample.shape)"
   ]
  },
  {
   "cell_type": "code",
   "execution_count": 4,
   "metadata": {},
   "outputs": [
    {
     "name": "stdout",
     "output_type": "stream",
     "text": [
      "(500, 20, 512)\n"
     ]
    }
   ],
   "source": [
    "print(X_data.shape)"
   ]
  },
  {
   "cell_type": "code",
   "execution_count": 23,
   "metadata": {},
   "outputs": [
    {
     "name": "stdout",
     "output_type": "stream",
     "text": [
      "(600, 20, 512)\n"
     ]
    }
   ],
   "source": [
    "X_data_over_sample=np.concatenate((X_data,over_sample))\n",
    "print(X_data_over_sample.shape)"
   ]
  },
  {
   "cell_type": "code",
   "execution_count": 25,
   "metadata": {},
   "outputs": [],
   "source": [
    "def labeller(personID):\n",
    "    if personID==0:\n",
    "        Y_train_p=np.ones((10,1))\n",
    "        Y_train_n=np.zeros((90,1))\n",
    "        Y_data=np.concatenate((Y_train_p,Y_train_n))\n",
    "    else:\n",
    "        Y_data = np.zeros((100,1))\n",
    "    return Y_data"
   ]
  },
  {
   "cell_type": "code",
   "execution_count": 6,
   "metadata": {},
   "outputs": [
    {
     "name": "stdout",
     "output_type": "stream",
     "text": [
      "(100, 1)\n",
      "(100, 1)\n",
      "(100, 1)\n",
      "(200, 1)\n",
      "(100, 1)\n",
      "(300, 1)\n",
      "(100, 1)\n",
      "(400, 1)\n",
      "(100, 1)\n",
      "(500, 1)\n"
     ]
    }
   ],
   "source": [
    "count=0\n",
    "for i in range(5):\n",
    "    count=count+1\n",
    "    Y_data=labeller(i)\n",
    "    print(Y_data.shape)\n",
    "    if count==1:\n",
    "        Y_train_total=Y_data\n",
    "    else:\n",
    "        Y_train_total=np.concatenate((Y_train_total,Y_data))\n",
    "    print(Y_train_total.shape)\n"
   ]
  },
  {
   "cell_type": "code",
   "execution_count": 28,
   "metadata": {},
   "outputs": [
    {
     "data": {
      "text/plain": [
       "(600, 1)"
      ]
     },
     "execution_count": 28,
     "metadata": {},
     "output_type": "execute_result"
    }
   ],
   "source": [
    "Y_train_total2=np.concatenate((Y_train_total,np.ones((100,1))))\n",
    "Y_train_total2.shape"
   ]
  },
  {
   "cell_type": "code",
   "execution_count": 30,
   "metadata": {
    "scrolled": true
   },
   "outputs": [],
   "source": [
    "X_train, X_test, y_train, y_test = train_test_split(X_data_over_sample,Y_train_total2, test_size=0.2)"
   ]
  },
  {
   "cell_type": "markdown",
   "metadata": {},
   "source": [
    "X_train = []\n",
    "X_test = []\n",
    "y_train = []\n",
    "y_test = []"
   ]
  },
  {
   "cell_type": "markdown",
   "metadata": {},
   "source": [
    "w=0\n",
    "f=0\n",
    "for i in range(len(X_data)):\n",
    "    if (i%9 == 0 or i%10 == 0):\n",
    "        #put it in X_test, y_test\n",
    "        if w==0:\n",
    "            X_test=X_data[i]\n",
    "            y_test=Y_train_total[i]\n",
    "            w=w+1\n",
    "        else:\n",
    "            X_test=np.concatenate((X_test,X_data[i]))\n",
    "            y_test=np.concatenate((y_test,Y_train_total[i]))\n",
    "    else:\n",
    "        if f==0:\n",
    "            X_train=X_data[i]\n",
    "            y_train=Y_train_total[i]\n",
    "            f=f+1\n",
    "        else:\n",
    "            X_train=np.concatenate((X_train,X_data[i]))\n",
    "            y_train=np.concatenate((y_train,Y_train_total[i]))\n",
    "        #put it in X_train, y_train"
   ]
  },
  {
   "cell_type": "code",
   "execution_count": 31,
   "metadata": {},
   "outputs": [],
   "source": [
    "model = Sequential()\n",
    "\n",
    "input_shape=(X_train.shape[1],X_train.shape[2])\n",
    "\n",
    "model.add(LSTM(units=11,return_sequences=True,input_shape=input_shape))\n",
    "model.add(Dropout(0.2))\n",
    "\n",
    "model.add(LSTM(units=16,return_sequences=True))\n",
    "model.add(Dropout(0.2))\n",
    "\n",
    "\n",
    "model.add(LSTM(units=16,return_sequences=True))\n",
    "model.add(Dropout(0.2))\n",
    "\n",
    "model.add(LSTM(units=16,input_shape=input_shape)) #16 units previously\n",
    "model.add(Dropout(0.2))\n",
    "\n",
    "#model.add(Dense(units=4))\n",
    "model.add(Dense(units=1, activation='sigmoid'))"
   ]
  },
  {
   "cell_type": "code",
   "execution_count": 42,
   "metadata": {
    "scrolled": true
   },
   "outputs": [
    {
     "name": "stdout",
     "output_type": "stream",
     "text": [
      "WARNING:tensorflow:From C:\\Users\\Om\\Anaconda3\\lib\\site-packages\\keras\\backend\\tensorflow_backend.py:3376: The name tf.log is deprecated. Please use tf.math.log instead.\n",
      "\n",
      "Epoch 1/50\n",
      "480/480 [==============================] - 14s 29ms/step - loss: 0.1329 - acc: 0.9583\n",
      "Epoch 2/50\n",
      "480/480 [==============================] - 1s 3ms/step - loss: 0.1783 - acc: 0.9396\n",
      "Epoch 3/50\n",
      "480/480 [==============================] - 1s 3ms/step - loss: 0.1194 - acc: 0.9688\n",
      "Epoch 4/50\n",
      "480/480 [==============================] - 1s 3ms/step - loss: 0.1199 - acc: 0.9646A: 0s - loss: 0.1223 - acc: 0.\n",
      "Epoch 5/50\n",
      "480/480 [==============================] - 1s 3ms/step - loss: 0.1101 - acc: 0.9667\n",
      "Epoch 6/50\n",
      "480/480 [==============================] - 1s 3ms/step - loss: 0.1088 - acc: 0.9667\n",
      "Epoch 7/50\n",
      "480/480 [==============================] - 1s 3ms/step - loss: 0.1129 - acc: 0.9646\n",
      "Epoch 8/50\n",
      "480/480 [==============================] - 1s 3ms/step - loss: 0.0983 - acc: 0.9667\n",
      "Epoch 9/50\n",
      "480/480 [==============================] - 1s 3ms/step - loss: 0.1138 - acc: 0.9646\n",
      "Epoch 10/50\n",
      "480/480 [==============================] - 1s 3ms/step - loss: 0.1253 - acc: 0.9521\n",
      "Epoch 11/50\n",
      "480/480 [==============================] - 1s 3ms/step - loss: 0.1083 - acc: 0.9708\n",
      "Epoch 12/50\n",
      "480/480 [==============================] - 2s 3ms/step - loss: 0.0966 - acc: 0.9667\n",
      "Epoch 13/50\n",
      "480/480 [==============================] - 2s 3ms/step - loss: 0.1036 - acc: 0.9625\n",
      "Epoch 14/50\n",
      "480/480 [==============================] - 2s 3ms/step - loss: 0.0905 - acc: 0.9646\n",
      "Epoch 15/50\n",
      "480/480 [==============================] - 2s 3ms/step - loss: 0.0766 - acc: 0.9792\n",
      "Epoch 16/50\n",
      "480/480 [==============================] - 2s 3ms/step - loss: 0.0702 - acc: 0.9854\n",
      "Epoch 17/50\n",
      "480/480 [==============================] - 2s 3ms/step - loss: 0.0725 - acc: 0.9792\n",
      "Epoch 18/50\n",
      "480/480 [==============================] - 2s 4ms/step - loss: 0.0750 - acc: 0.9792\n",
      "Epoch 19/50\n",
      "480/480 [==============================] - 1s 3ms/step - loss: 0.0846 - acc: 0.9688\n",
      "Epoch 20/50\n",
      "480/480 [==============================] - 1s 3ms/step - loss: 0.0674 - acc: 0.9771\n",
      "Epoch 21/50\n",
      "480/480 [==============================] - 1s 3ms/step - loss: 0.0687 - acc: 0.9813\n",
      "Epoch 22/50\n",
      "480/480 [==============================] - 1s 3ms/step - loss: 0.0635 - acc: 0.9833\n",
      "Epoch 23/50\n",
      "480/480 [==============================] - 1s 3ms/step - loss: 0.0629 - acc: 0.9833\n",
      "Epoch 24/50\n",
      "480/480 [==============================] - 1s 3ms/step - loss: 0.0692 - acc: 0.9792\n",
      "Epoch 25/50\n",
      "480/480 [==============================] - 1s 3ms/step - loss: 0.0584 - acc: 0.9833\n",
      "Epoch 26/50\n",
      "480/480 [==============================] - 1s 3ms/step - loss: 0.0567 - acc: 0.9854\n",
      "Epoch 27/50\n",
      "480/480 [==============================] - 1s 3ms/step - loss: 0.0608 - acc: 0.9833\n",
      "Epoch 28/50\n",
      "480/480 [==============================] - 2s 4ms/step - loss: 0.0595 - acc: 0.9812\n",
      "Epoch 29/50\n",
      "480/480 [==============================] - 2s 3ms/step - loss: 0.0566 - acc: 0.9813\n",
      "Epoch 30/50\n",
      "480/480 [==============================] - 2s 3ms/step - loss: 0.0561 - acc: 0.9792\n",
      "Epoch 31/50\n",
      "480/480 [==============================] - 2s 3ms/step - loss: 0.0454 - acc: 0.9854\n",
      "Epoch 32/50\n",
      "480/480 [==============================] - 2s 3ms/step - loss: 0.0440 - acc: 0.9813\n",
      "Epoch 33/50\n",
      "480/480 [==============================] - 2s 5ms/step - loss: 0.0520 - acc: 0.9854\n",
      "Epoch 34/50\n",
      "480/480 [==============================] - 2s 4ms/step - loss: 0.0577 - acc: 0.9771\n",
      "Epoch 35/50\n",
      "480/480 [==============================] - 2s 4ms/step - loss: 0.0578 - acc: 0.9833\n",
      "Epoch 36/50\n",
      "480/480 [==============================] - 2s 4ms/step - loss: 0.0432 - acc: 0.9854\n",
      "Epoch 37/50\n",
      "480/480 [==============================] - 2s 4ms/step - loss: 0.0479 - acc: 0.9833\n",
      "Epoch 38/50\n",
      "480/480 [==============================] - 2s 4ms/step - loss: 0.0472 - acc: 0.9854\n",
      "Epoch 39/50\n",
      "480/480 [==============================] - 2s 5ms/step - loss: 0.0470 - acc: 0.9854\n",
      "Epoch 40/50\n",
      "480/480 [==============================] - 2s 5ms/step - loss: 0.0473 - acc: 0.9854\n",
      "Epoch 41/50\n",
      "480/480 [==============================] - 2s 4ms/step - loss: 0.0521 - acc: 0.9813\n",
      "Epoch 42/50\n",
      "480/480 [==============================] - 1s 3ms/step - loss: 0.0486 - acc: 0.9813\n",
      "Epoch 43/50\n",
      "480/480 [==============================] - 1s 3ms/step - loss: 0.0550 - acc: 0.9813\n",
      "Epoch 44/50\n",
      "480/480 [==============================] - 1s 3ms/step - loss: 0.0511 - acc: 0.9854\n",
      "Epoch 45/50\n",
      "480/480 [==============================] - 1s 3ms/step - loss: 0.0470 - acc: 0.9875\n",
      "Epoch 46/50\n",
      "480/480 [==============================] - 1s 3ms/step - loss: 0.0475 - acc: 0.9854\n",
      "Epoch 47/50\n",
      "480/480 [==============================] - 1s 3ms/step - loss: 0.0394 - acc: 0.9854\n",
      "Epoch 48/50\n",
      "480/480 [==============================] - 1s 3ms/step - loss: 0.0470 - acc: 0.9854\n",
      "Epoch 49/50\n",
      "480/480 [==============================] - 1s 3ms/step - loss: 0.0460 - acc: 0.9854\n",
      "Epoch 50/50\n",
      "480/480 [==============================] - 2s 3ms/step - loss: 0.0489 - acc: 0.9833\n"
     ]
    },
    {
     "data": {
      "text/plain": [
       "<keras.callbacks.History at 0x1369a488888>"
      ]
     },
     "execution_count": 42,
     "metadata": {},
     "output_type": "execute_result"
    }
   ],
   "source": [
    "model.compile(optimizer='adam', loss='binary_crossentropy' ,metrics=['accuracy'])\n",
    "model.fit(X_train,y_train,epochs=50,batch_size=75)"
   ]
  },
  {
   "cell_type": "code",
   "execution_count": 44,
   "metadata": {
    "scrolled": true
   },
   "outputs": [
    {
     "data": {
      "text/plain": [
       "array([[7.39902258e-04],\n",
       "       [7.43746758e-04],\n",
       "       [7.44044781e-04],\n",
       "       [7.41064548e-04],\n",
       "       [7.42286444e-04],\n",
       "       [7.47144222e-04],\n",
       "       [1.38691068e-03],\n",
       "       [9.95861948e-01],\n",
       "       [7.43508339e-04],\n",
       "       [7.40498304e-04],\n",
       "       [7.39991665e-04],\n",
       "       [7.36743212e-04],\n",
       "       [9.95861948e-01],\n",
       "       [2.14764714e-01],\n",
       "       [2.94793665e-01],\n",
       "       [7.39544630e-04],\n",
       "       [7.38620758e-04],\n",
       "       [7.40915537e-04],\n",
       "       [7.40110874e-04],\n",
       "       [7.48395920e-04],\n",
       "       [1.66117013e-01],\n",
       "       [7.38412142e-04],\n",
       "       [7.42197037e-04],\n",
       "       [7.37667084e-04],\n",
       "       [3.00736547e-01],\n",
       "       [7.44909048e-04],\n",
       "       [7.46607780e-04],\n",
       "       [7.38650560e-04],\n",
       "       [9.95861948e-01],\n",
       "       [7.40110874e-04],\n",
       "       [9.93950665e-01],\n",
       "       [7.39306211e-04],\n",
       "       [7.36951828e-04],\n",
       "       [7.45087862e-04],\n",
       "       [7.39157200e-04],\n",
       "       [7.14072585e-03],\n",
       "       [9.95861948e-01],\n",
       "       [7.48425722e-04],\n",
       "       [7.42107630e-04],\n",
       "       [7.39663839e-04],\n",
       "       [7.39216805e-04],\n",
       "       [7.41869211e-04],\n",
       "       [8.95321369e-04],\n",
       "       [7.36922026e-04],\n",
       "       [9.95861948e-01],\n",
       "       [7.36713409e-04],\n",
       "       [7.36027956e-04],\n",
       "       [7.35968351e-04],\n",
       "       [8.29981863e-02],\n",
       "       [7.39216805e-04],\n",
       "       [7.43091106e-04],\n",
       "       [7.38561153e-04],\n",
       "       [7.38590956e-04],\n",
       "       [7.44789839e-04],\n",
       "       [7.38888979e-04],\n",
       "       [1.89346075e-03],\n",
       "       [7.40975142e-04],\n",
       "       [7.39276409e-04],\n",
       "       [7.36117363e-04],\n",
       "       [9.95861948e-01],\n",
       "       [7.41988420e-04],\n",
       "       [7.38650560e-04],\n",
       "       [9.95861948e-01],\n",
       "       [7.43508339e-04],\n",
       "       [7.44283199e-04],\n",
       "       [7.37518072e-04],\n",
       "       [7.44014978e-04],\n",
       "       [9.81975615e-01],\n",
       "       [7.41004944e-04],\n",
       "       [7.39306211e-04],\n",
       "       [7.38650560e-04],\n",
       "       [7.43925571e-04],\n",
       "       [9.95861948e-01],\n",
       "       [7.40021467e-04],\n",
       "       [9.95861948e-01],\n",
       "       [7.46577978e-04],\n",
       "       [7.36981630e-04],\n",
       "       [7.39663839e-04],\n",
       "       [7.40200281e-04],\n",
       "       [1.42756104e-03],\n",
       "       [7.54922628e-04],\n",
       "       [7.38590956e-04],\n",
       "       [7.39157200e-04],\n",
       "       [7.40230083e-04],\n",
       "       [9.81975615e-01],\n",
       "       [7.37875700e-04],\n",
       "       [7.37577677e-04],\n",
       "       [9.95861948e-01],\n",
       "       [7.43865967e-04],\n",
       "       [9.95861948e-01],\n",
       "       [7.38680363e-04],\n",
       "       [1.92174315e-03],\n",
       "       [7.40468502e-04],\n",
       "       [9.81975615e-01],\n",
       "       [7.38561153e-04],\n",
       "       [7.36981630e-04],\n",
       "       [7.43001699e-04],\n",
       "       [7.43895769e-04],\n",
       "       [1.65685862e-01],\n",
       "       [7.42197037e-04],\n",
       "       [7.39187002e-04],\n",
       "       [7.38739967e-04],\n",
       "       [9.95861948e-01],\n",
       "       [7.38888979e-04],\n",
       "       [7.41869211e-04],\n",
       "       [7.37756491e-04],\n",
       "       [9.95861948e-01],\n",
       "       [1.05454326e-01],\n",
       "       [7.35998154e-04],\n",
       "       [7.38829374e-04],\n",
       "       [7.37667084e-04],\n",
       "       [7.42048025e-04],\n",
       "       [7.38650560e-04],\n",
       "       [1.88723207e-03],\n",
       "       [9.93950665e-01],\n",
       "       [7.39544630e-04],\n",
       "       [7.40140676e-04],\n",
       "       [7.38590956e-04],\n",
       "       [7.42256641e-04],\n",
       "       [7.39842653e-04]], dtype=float32)"
      ]
     },
     "execution_count": 44,
     "metadata": {},
     "output_type": "execute_result"
    }
   ],
   "source": [
    "model.predict(X_test) "
   ]
  },
  {
   "cell_type": "code",
   "execution_count": 40,
   "metadata": {},
   "outputs": [
    {
     "name": "stdout",
     "output_type": "stream",
     "text": [
      "[[0.]\n",
      " [0.]\n",
      " [0.]\n",
      " [0.]\n",
      " [0.]\n",
      " [0.]\n",
      " [0.]\n",
      " [1.]\n",
      " [0.]\n",
      " [0.]\n",
      " [0.]\n",
      " [0.]\n",
      " [1.]\n",
      " [0.]\n",
      " [0.]\n",
      " [0.]\n",
      " [0.]\n",
      " [0.]\n",
      " [0.]\n",
      " [0.]\n",
      " [0.]\n",
      " [0.]\n",
      " [0.]\n",
      " [0.]\n",
      " [0.]\n",
      " [0.]\n",
      " [0.]\n",
      " [0.]\n",
      " [1.]\n",
      " [0.]\n",
      " [1.]\n",
      " [0.]\n",
      " [0.]\n",
      " [0.]\n",
      " [0.]\n",
      " [0.]\n",
      " [1.]\n",
      " [0.]\n",
      " [0.]\n",
      " [0.]\n",
      " [0.]\n",
      " [0.]\n",
      " [0.]\n",
      " [0.]\n",
      " [1.]\n",
      " [0.]\n",
      " [0.]\n",
      " [0.]\n",
      " [0.]\n",
      " [0.]\n",
      " [0.]\n",
      " [0.]\n",
      " [0.]\n",
      " [0.]\n",
      " [0.]\n",
      " [0.]\n",
      " [0.]\n",
      " [0.]\n",
      " [0.]\n",
      " [1.]\n",
      " [0.]\n",
      " [0.]\n",
      " [1.]\n",
      " [0.]\n",
      " [0.]\n",
      " [0.]\n",
      " [0.]\n",
      " [1.]\n",
      " [0.]\n",
      " [0.]\n",
      " [0.]\n",
      " [0.]\n",
      " [1.]\n",
      " [0.]\n",
      " [1.]\n",
      " [0.]\n",
      " [0.]\n",
      " [0.]\n",
      " [0.]\n",
      " [0.]\n",
      " [0.]\n",
      " [0.]\n",
      " [0.]\n",
      " [0.]\n",
      " [1.]\n",
      " [0.]\n",
      " [0.]\n",
      " [1.]\n",
      " [0.]\n",
      " [1.]\n",
      " [0.]\n",
      " [0.]\n",
      " [0.]\n",
      " [1.]\n",
      " [0.]\n",
      " [0.]\n",
      " [0.]\n",
      " [0.]\n",
      " [0.]\n",
      " [0.]\n",
      " [0.]\n",
      " [0.]\n",
      " [1.]\n",
      " [0.]\n",
      " [0.]\n",
      " [0.]\n",
      " [1.]\n",
      " [0.]\n",
      " [0.]\n",
      " [0.]\n",
      " [0.]\n",
      " [0.]\n",
      " [0.]\n",
      " [0.]\n",
      " [1.]\n",
      " [0.]\n",
      " [0.]\n",
      " [0.]\n",
      " [0.]\n",
      " [0.]]\n"
     ]
    }
   ],
   "source": [
    "print(y_test) "
   ]
  },
  {
   "cell_type": "code",
   "execution_count": 45,
   "metadata": {},
   "outputs": [],
   "source": [
    "scores=model.evaluate(X_test,y_test,verbose=0)"
   ]
  },
  {
   "cell_type": "code",
   "execution_count": 46,
   "metadata": {},
   "outputs": [
    {
     "name": "stdout",
     "output_type": "stream",
     "text": [
      "[0.014267083443701267, 1.0]\n"
     ]
    }
   ],
   "source": [
    "print(scores)"
   ]
  }
 ],
 "metadata": {
  "kernelspec": {
   "display_name": "Python 3",
   "language": "python",
   "name": "python3"
  },
  "language_info": {
   "codemirror_mode": {
    "name": "ipython",
    "version": 3
   },
   "file_extension": ".py",
   "mimetype": "text/x-python",
   "name": "python",
   "nbconvert_exporter": "python",
   "pygments_lexer": "ipython3",
   "version": "3.7.4"
  }
 },
 "nbformat": 4,
 "nbformat_minor": 2
}
