{
  "nbformat": 4,
  "nbformat_minor": 0,
  "metadata": {
    "kernelspec": {
      "display_name": "Python 3",
      "language": "python",
      "name": "python3"
    },
    "language_info": {
      "codemirror_mode": {
        "name": "ipython",
        "version": 3
      },
      "file_extension": ".py",
      "mimetype": "text/x-python",
      "name": "python",
      "nbconvert_exporter": "python",
      "pygments_lexer": "ipython3",
      "version": "3.7.6"
    },
    "colab": {
      "name": "BottleBody.ipynb",
      "provenance": [],
      "include_colab_link": true
    }
  },
  "cells": [
    {
      "cell_type": "markdown",
      "metadata": {
        "id": "view-in-github",
        "colab_type": "text"
      },
      "source": [
        "<a href=\"https://colab.research.google.com/github/Mohit-Mithra/AuthNet/blob/master/BottleBody.ipynb\" target=\"_parent\"><img src=\"https://colab.research.google.com/assets/colab-badge.svg\" alt=\"Open In Colab\"/></a>"
      ]
    },
    {
      "cell_type": "code",
      "metadata": {
        "id": "rldBacIJ_S-9"
      },
      "source": [
        "from keras.layers import LSTM\n",
        "from keras.models import Sequential, Model\n",
        "from keras.layers import Input, Dense, Flatten, Dropout, Activation, Lambda, Permute, Reshape\n",
        "import numpy as np"
      ],
      "execution_count": null,
      "outputs": []
    },
    {
      "cell_type": "code",
      "metadata": {
        "id": "8GWVcK7V_S_X"
      },
      "source": [
        "from numpy import load\n",
        "from keras import losses"
      ],
      "execution_count": null,
      "outputs": []
    },
    {
      "cell_type": "code",
      "metadata": {
        "id": "N06cnzS9_S_g"
      },
      "source": [
        "def oversample(dataset):\n",
        "    pos_over_pos=dataset[0:5,:,:]\n",
        "    over_sample=[]\n",
        "    for i in range(20):\n",
        "        if i == 0:\n",
        "            over_sample=pos_over_pos\n",
        "        else:\n",
        "            over_sample=np.concatenate((over_sample,pos_over_pos))\n",
        "        print(over_sample.shape)\n",
        "        \n",
        "    neg_over_neg = dataset[5:15,:,:]\n",
        "    print(neg_over_neg.shape)\n",
        "    over_sample_neg=[]\n",
        "    for i in range(10):\n",
        "        if i == 0:\n",
        "            over_sample_neg=neg_over_neg\n",
        "        else:\n",
        "            over_sample_neg=np.concatenate((over_sample_neg,neg_over_neg))   \n",
        "    X_data_over_sample_neg=np.concatenate((dataset,over_sample_neg))\n",
        "    X_data_over_sample=np.concatenate((X_data_over_sample_neg,over_sample))\n",
        "    \n",
        "    print(X_data_over_sample.shape)\n",
        "    return X_data_over_sample"
      ],
      "execution_count": null,
      "outputs": []
    },
    {
      "cell_type": "code",
      "metadata": {
        "id": "zwTePPRR_S_j"
      },
      "source": [
        "def labeller():  \n",
        "\n",
        "    Y_train_p=np.ones((5,1))\n",
        "    Y_train_n=np.zeros((10,1))\n",
        "    Y_data=np.concatenate((Y_train_p,Y_train_n))\n",
        "    Y_data_oversample_neg=np.concatenate((Y_data,np.zeros((100,1))))\n",
        "    Y_data_oversample_without_storedneg=np.concatenate((Y_data_oversample_neg,np.ones((100,1))))\n",
        "    Y_data_oversample=np.concatenate((Y_data_oversample_without_storedneg,np.zeros((200,1))))\n",
        "    return Y_data_oversample"
      ],
      "execution_count": null,
      "outputs": []
    },
    {
      "cell_type": "code",
      "metadata": {
        "id": "5bNw5mi__S_m"
      },
      "source": [
        "def trainer(X_train, y_train):\n",
        "\n",
        "    model = Sequential()\n",
        "\n",
        "    input_shape=(X_train.shape[1],X_train.shape[2])\n",
        "\n",
        "    model.add(LSTM(units=11,return_sequences=True,input_shape=input_shape))\n",
        "    model.add(Dropout(0.2))\n",
        "\n",
        "    model.add(LSTM(units=16,return_sequences=True))\n",
        "    model.add(Dropout(0.2))\n",
        "\n",
        "\n",
        "    model.add(LSTM(units=16,return_sequences=True))\n",
        "    model.add(Dropout(0.2))\n",
        "\n",
        "    model.add(LSTM(units=16,input_shape=input_shape)) \n",
        "    model.add(Dropout(0.2))\n",
        "\n",
        "    model.add(Dense(units=1, activation='sigmoid'))\n",
        "    \n",
        "    model.compile(optimizer='adam', loss='binary_crossentropy')\n",
        "    model.fit(X_train,y_train,epochs=50,batch_size=75)\n",
        "    \n",
        "    return model"
      ],
      "execution_count": null,
      "outputs": []
    }
  ]
}