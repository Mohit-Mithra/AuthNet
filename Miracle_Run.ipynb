{
 "cells": [
  {
   "cell_type": "code",
   "execution_count": 1,
   "metadata": {},
   "outputs": [
    {
     "name": "stderr",
     "output_type": "stream",
     "text": [
      "Using TensorFlow backend.\n"
     ]
    }
   ],
   "source": [
    "from keras.models import load_model\n",
    "\n",
    "import matplotlib.pyplot as plt\n",
    "import numpy as np\n",
    "import math\n",
    "import copy\n",
    "from PIL import Image\n",
    "\n",
    "from keras.models import Sequential, Model\n",
    "from keras.layers import Input, Dense, Flatten, Dropout, Activation, Lambda, Permute, Reshape\n",
    "from keras.layers import Convolution1D, Convolution2D, ZeroPadding2D, MaxPooling2D\n",
    "\n",
    "import os"
   ]
  },
  {
   "cell_type": "code",
   "execution_count": 2,
   "metadata": {},
   "outputs": [
    {
     "name": "stderr",
     "output_type": "stream",
     "text": [
      "C:\\Users\\Om\\Anaconda3\\envs\\opencv\\lib\\site-packages\\keras\\engine\\saving.py:341: UserWarning: No training configuration found in save file: the model was *not* compiled. Compile it manually.\n",
      "  warnings.warn('No training configuration found in save file: '\n"
     ]
    }
   ],
   "source": [
    "trial_model=load_model('Utilities\\\\VGGFace.h5')\n",
    "\n",
    "def features(featmodel, crpimg, transform=False): #extract face feature vector\n",
    "    \n",
    "    # transform=True seems more robust but I think the RGB channels are not in right order\n",
    "    \n",
    "    imarr = np.array(crpimg).astype(np.float32)\n",
    "\n",
    "    if transform:\n",
    "        imarr[:,:,0] -= 129.1863\n",
    "        imarr[:,:,1] -= 104.7624\n",
    "        imarr[:,:,2] -= 93.5940        \n",
    "        aux = copy.copy(imarr)\n",
    "    imarr = np.expand_dims(imarr, axis=0)\n",
    "    output= featmodel.predict(imarr)[0,:]\n",
    "    return output\n"
   ]
  },
  {
   "cell_type": "code",
   "execution_count": 3,
   "metadata": {},
   "outputs": [],
   "source": [
    "def feature_extractor(inpDir,personID,wordID,timestep): #access directory and extract face vector\n",
    "    \n",
    "    \n",
    "        \n",
    "        \n",
    "    sample_space=[] #for appending different utterances\n",
    "    feature_sequence = [] # for appending different timesteps\n",
    "    inpDir=inpDir #input dataset\n",
    "    linpDir = os.listdir(inpDir) #list all directories in dataset\n",
    "    #print(linpDir)\n",
    "    personStr= linpDir[personID]\n",
    "    personFolder = '%s\\\\%s\\\\words' % (inpDir,personStr) #opening words folder\n",
    "    lpersonFolder = os.listdir(personFolder)\n",
    "    #print(lpersonFolder)\n",
    "    wordID= lpersonFolder[wordID]\n",
    "    #print(wordID)\n",
    "    wordFolder = '%s\\\\%s' % (personFolder,wordID)\n",
    "    lwordFolder = os.listdir(wordFolder)\n",
    "    #print(lwordFolder)\n",
    "    \n",
    "    i=0\n",
    "    for utterance in lwordFolder:\n",
    "        \n",
    "        utterFolder= '%s\\\\%s' % (wordFolder,utterance)\n",
    "        lutterFolder = os.listdir(utterFolder)\n",
    "        colourFolder ='%s\\\\%s' % (utterFolder,lutterFolder[0])\n",
    "        lcolourFolder = os.listdir(colourFolder)\n",
    "        frame = lcolourFolder[timestep]\n",
    "        i += 1\n",
    "        image= \"%s\\\\%s\" % (colourFolder,frame) \n",
    "        im=Image.open(image)\n",
    "        im = im.resize((224,224))\n",
    "        feature_vector = features(trial_model,im, transform=True).reshape((1,1, 1, 2622))\n",
    "        if i==1 :\n",
    "            feature_sequence=feature_vector #done because of need of same dim. for concatenation\n",
    "        else:\n",
    "            feature_sequence = np.concatenate((feature_sequence,feature_vector),axis=0)\n",
    "        #print(feature_sequence.shape)\n",
    "            \n",
    "    feature_sequence_reshaped = feature_sequence[:,0,:,:] #removing unnecessary extra dimensions\n",
    "    return feature_sequence_reshaped\n"
   ]
  },
  {
   "cell_type": "code",
   "execution_count": 4,
   "metadata": {},
   "outputs": [],
   "source": [
    "#test1=feature_extractor(r'C:\\Users\\Om\\Desktop\\dataset',0,0,0)"
   ]
  },
  {
   "cell_type": "code",
   "execution_count": 5,
   "metadata": {},
   "outputs": [],
   "source": [
    "def word_extractor(inpDir,person,sample):\n",
    "    timesteps=20 #optimum number of timesteps.Change can be made.\n",
    "    condition_count=0 #\n",
    "    for i in range(timesteps):\n",
    "        CNN_out=feature_extractor(inpDir,person,sample,i)#calling feature_extractor()\n",
    "        condition_count = condition_count + 1\n",
    "        if condition_count==1 :\n",
    "            CNN_out_total= CNN_out # extra condtion is added to maintain same dimensions\n",
    "        else :\n",
    "            CNN_out_total= np.concatenate((CNN_out_total,CNN_out))\n",
    "        print(condition_count)\n",
    "    return CNN_out_total "
   ]
  },
  {
   "cell_type": "code",
   "execution_count": 6,
   "metadata": {
    "scrolled": true
   },
   "outputs": [],
   "source": [
    "#CNN_out_total= word_extractor(r'C:\\Users\\Om\\Desktop\\dataset',0,0)"
   ]
  },
  {
   "cell_type": "code",
   "execution_count": 7,
   "metadata": {},
   "outputs": [],
   "source": [
    "def person_extractor(InpDir,person):\n",
    "    p_dataset=[] #array to store values\n",
    "    condition_count=0\n",
    "    no_of_words= 7 \n",
    "    for i in range(no_of_words):\n",
    "        print(str(i)+'word')\n",
    "        condition_count = condition_count +1\n",
    "        CNN_out_total= word_extractor(InpDir,person,i)\n",
    "        if condition_count==1 :\n",
    "            p_dataset = CNN_out_total #done because of need of same dimensions for concatenation\n",
    "        else:\n",
    "            p_dataset = np.concatenate((p_dataset,CNN_out_total),axis=0)\n",
    "        \n",
    "    return p_dataset "
   ]
  },
  {
   "cell_type": "code",
   "execution_count": 8,
   "metadata": {},
   "outputs": [],
   "source": [
    "def reshape_LSTM(sample_mat):\n",
    "    feature_vector=[]\n",
    "    feature_mat=[]\n",
    "    \n",
    "    count_word = 0\n",
    "    for word in range(3):\n",
    "        count_i=0\n",
    "        for utterance in range(10):\n",
    "            count_j=0\n",
    "            for timestep in range(200*word,200*(word+1),10):\n",
    "                timestep = timestep + utterance\n",
    "                sample_mat_j=sample_mat[timestep]\n",
    "                sample_mat_j=sample_mat_j.reshape((1,2622))\n",
    "                if count_j==0:\n",
    "                    feature_vector=sample_mat_j\n",
    "                else:\n",
    "                    feature_vector=np.concatenate((feature_vector,sample_mat_j))\n",
    "                count_j = count_j + 1\n",
    "\n",
    "            if count_i==0:\n",
    "                feature_mat=feature_vector\n",
    "            else:\n",
    "                feature_mat= np.concatenate((feature_mat,feature_vector))\n",
    "            count_i= count_i + 1\n",
    "            print(feature_mat.shape)\n",
    "            \n",
    "        if count_word==0:\n",
    "            LSTM_input=feature_mat\n",
    "        else:\n",
    "            LSTM_input= np.concatenate((LSTM_input,feature_mat))\n",
    "        count_word= count_word + 1\n",
    "                \n",
    "    print(LSTM_input.shape)\n",
    "  \n",
    "    return LSTM_input"
   ]
  },
  {
   "cell_type": "code",
   "execution_count": 9,
   "metadata": {},
   "outputs": [],
   "source": [
    "def BottleNeck(InpDir,person):\n",
    "    p_dataset=person_extractorT(InpDir,person)\n",
    "    p_dataset_LSTM=reshape_LSTM(p_dataset)\n",
    "    p_total_dataset=p_dataset_LSTM\n",
    "    print('person done')\n",
    "    return p_total_dataset"
   ]
  },
  {
   "cell_type": "code",
   "execution_count": 10,
   "metadata": {
    "scrolled": true
   },
   "outputs": [],
   "source": [
    "#p_total_dataset_1=BottleNeck(r'C:\\Users\\Om\\Desktop\\dataset',0)"
   ]
  },
  {
   "cell_type": "code",
   "execution_count": 11,
   "metadata": {},
   "outputs": [],
   "source": [
    "from numpy import save"
   ]
  },
  {
   "cell_type": "code",
   "execution_count": 12,
   "metadata": {},
   "outputs": [],
   "source": [
    "#np.save('F01.npy',p_total_dataset_1)"
   ]
  },
  {
   "cell_type": "code",
   "execution_count": 13,
   "metadata": {
    "scrolled": true
   },
   "outputs": [],
   "source": [
    "#p_total_dataset_2=BottleNeck(r'C:\\Users\\Om\\Desktop\\dataset',1)"
   ]
  },
  {
   "cell_type": "code",
   "execution_count": 14,
   "metadata": {},
   "outputs": [],
   "source": [
    "#np.save('F02.npy',p_total_dataset_2)"
   ]
  },
  {
   "cell_type": "code",
   "execution_count": 15,
   "metadata": {
    "scrolled": true
   },
   "outputs": [],
   "source": [
    "#p_total_dataset_3=BottleNeck(r'C:\\Users\\Om\\Desktop\\dataset',2)"
   ]
  },
  {
   "cell_type": "code",
   "execution_count": 16,
   "metadata": {},
   "outputs": [],
   "source": [
    "#np.save('F04.npy',p_total_dataset_3)\n"
   ]
  },
  {
   "cell_type": "code",
   "execution_count": 17,
   "metadata": {
    "scrolled": true
   },
   "outputs": [],
   "source": [
    "#p_total_dataset_4=BottleNeck(r'C:\\Users\\Om\\Desktop\\dataset',3)"
   ]
  },
  {
   "cell_type": "code",
   "execution_count": 18,
   "metadata": {},
   "outputs": [],
   "source": [
    "#np.save('F05.npy',p_total_dataset_4)"
   ]
  },
  {
   "cell_type": "code",
   "execution_count": 19,
   "metadata": {
    "scrolled": true
   },
   "outputs": [],
   "source": [
    "#p_total_dataset_5=BottleNeck(r'C:\\Users\\Om\\Desktop\\dataset',4)"
   ]
  },
  {
   "cell_type": "code",
   "execution_count": 20,
   "metadata": {},
   "outputs": [],
   "source": [
    "#p_total_dataset_6=BottleNeck(r'C:\\Users\\Om\\Desktop\\dataset',5)"
   ]
  },
  {
   "cell_type": "code",
   "execution_count": 21,
   "metadata": {},
   "outputs": [],
   "source": [
    "#np.save('F07.npy',p_total_dataset_6)"
   ]
  },
  {
   "cell_type": "code",
   "execution_count": 22,
   "metadata": {},
   "outputs": [],
   "source": [
    "def person_extractorT(InpDir,person):\n",
    "    p_dataset=[] #array to store values\n",
    "    condition_count=0\n",
    "    no_of_words= 3 \n",
    "    for i in range(3):\n",
    "        print(str(i)+'word')\n",
    "        condition_count = condition_count +1\n",
    "        CNN_out_total= word_extractor(InpDir,person,i)\n",
    "        if condition_count==1 :\n",
    "            p_dataset = CNN_out_total #done because of need of same dimensions for concatenation\n",
    "        else:\n",
    "            p_dataset = np.concatenate((p_dataset,CNN_out_total),axis=0)\n",
    "        \n",
    "    return p_dataset"
   ]
  },
  {
   "cell_type": "code",
   "execution_count": 23,
   "metadata": {
    "scrolled": true
   },
   "outputs": [],
   "source": [
    "#p_test1=BottleNeck(r'C:\\Users\\Om\\Desktop\\dataset',0)"
   ]
  },
  {
   "cell_type": "code",
   "execution_count": 24,
   "metadata": {},
   "outputs": [],
   "source": [
    "#np.save('F01_t.npy',p_test1)"
   ]
  },
  {
   "cell_type": "code",
   "execution_count": 25,
   "metadata": {
    "scrolled": true
   },
   "outputs": [],
   "source": [
    "#p_test2=BottleNeck(r'C:\\Users\\Om\\Desktop\\dataset',1)\n",
    "#np.save('F02_t.npy',p_test2)"
   ]
  },
  {
   "cell_type": "code",
   "execution_count": 26,
   "metadata": {
    "scrolled": true
   },
   "outputs": [],
   "source": [
    "#p_test3=BottleNeck(r'C:\\Users\\Om\\Desktop\\dataset',2)\n",
    "#np.save('F04_t.npy',p_test3)"
   ]
  },
  {
   "cell_type": "code",
   "execution_count": 27,
   "metadata": {
    "scrolled": true
   },
   "outputs": [],
   "source": [
    "#p_test4=BottleNeck(r'C:\\Users\\Om\\Desktop\\dataset',3)\n",
    "#np.save('F05_t.npy',p_test4)"
   ]
  },
  {
   "cell_type": "code",
   "execution_count": 28,
   "metadata": {
    "scrolled": true
   },
   "outputs": [],
   "source": [
    "#p_test5=BottleNeck(r'C:\\Users\\Om\\Desktop\\dataset',4)\n",
    "#np.save('F06_t.npy',p_test5)"
   ]
  },
  {
   "cell_type": "code",
   "execution_count": 29,
   "metadata": {},
   "outputs": [
    {
     "name": "stdout",
     "output_type": "stream",
     "text": [
      "0word\n",
      "1\n",
      "2\n",
      "3\n",
      "4\n",
      "5\n",
      "6\n",
      "7\n",
      "8\n",
      "9\n",
      "10\n",
      "11\n",
      "12\n",
      "13\n",
      "14\n",
      "15\n",
      "16\n",
      "17\n",
      "18\n",
      "19\n",
      "20\n",
      "1word\n",
      "1\n",
      "2\n",
      "3\n",
      "4\n",
      "5\n",
      "6\n",
      "7\n",
      "8\n",
      "9\n",
      "10\n",
      "11\n",
      "12\n",
      "13\n",
      "14\n",
      "15\n",
      "16\n",
      "17\n",
      "18\n",
      "19\n",
      "20\n",
      "2word\n",
      "1\n",
      "2\n",
      "3\n",
      "4\n",
      "5\n",
      "6\n",
      "7\n",
      "8\n",
      "9\n",
      "10\n",
      "11\n",
      "12\n",
      "13\n",
      "14\n",
      "15\n",
      "16\n",
      "17\n",
      "18\n",
      "19\n",
      "20\n",
      "(20, 2622)\n",
      "(40, 2622)\n",
      "(60, 2622)\n",
      "(80, 2622)\n",
      "(100, 2622)\n",
      "(120, 2622)\n",
      "(140, 2622)\n",
      "(160, 2622)\n",
      "(180, 2622)\n",
      "(200, 2622)\n",
      "(20, 2622)\n",
      "(40, 2622)\n",
      "(60, 2622)\n",
      "(80, 2622)\n",
      "(100, 2622)\n",
      "(120, 2622)\n",
      "(140, 2622)\n",
      "(160, 2622)\n",
      "(180, 2622)\n",
      "(200, 2622)\n",
      "(20, 2622)\n",
      "(40, 2622)\n",
      "(60, 2622)\n",
      "(80, 2622)\n",
      "(100, 2622)\n",
      "(120, 2622)\n",
      "(140, 2622)\n",
      "(160, 2622)\n",
      "(180, 2622)\n",
      "(200, 2622)\n",
      "(600, 2622)\n",
      "person done\n"
     ]
    }
   ],
   "source": [
    "p_test5=BottleNeck(r'C:\\Users\\Om\\Desktop\\dataset',5)\n",
    "np.save('F07_t.npy',p_test5)"
   ]
  },
  {
   "cell_type": "code",
   "execution_count": 30,
   "metadata": {},
   "outputs": [
    {
     "name": "stdout",
     "output_type": "stream",
     "text": [
      "0word\n",
      "1\n",
      "2\n",
      "3\n",
      "4\n",
      "5\n",
      "6\n",
      "7\n",
      "8\n",
      "9\n",
      "10\n",
      "11\n",
      "12\n",
      "13\n",
      "14\n",
      "15\n",
      "16\n",
      "17\n",
      "18\n",
      "19\n",
      "20\n",
      "1word\n",
      "1\n",
      "2\n",
      "3\n",
      "4\n",
      "5\n",
      "6\n",
      "7\n",
      "8\n",
      "9\n",
      "10\n",
      "11\n",
      "12\n",
      "13\n",
      "14\n",
      "15\n",
      "16\n",
      "17\n",
      "18\n",
      "19\n",
      "20\n",
      "2word\n",
      "1\n",
      "2\n",
      "3\n",
      "4\n",
      "5\n",
      "6\n",
      "7\n",
      "8\n",
      "9\n",
      "10\n",
      "11\n",
      "12\n",
      "13\n",
      "14\n",
      "15\n",
      "16\n",
      "17\n",
      "18\n",
      "19\n",
      "20\n",
      "(20, 2622)\n",
      "(40, 2622)\n",
      "(60, 2622)\n",
      "(80, 2622)\n",
      "(100, 2622)\n",
      "(120, 2622)\n",
      "(140, 2622)\n",
      "(160, 2622)\n",
      "(180, 2622)\n",
      "(200, 2622)\n",
      "(20, 2622)\n",
      "(40, 2622)\n",
      "(60, 2622)\n",
      "(80, 2622)\n",
      "(100, 2622)\n",
      "(120, 2622)\n",
      "(140, 2622)\n",
      "(160, 2622)\n",
      "(180, 2622)\n",
      "(200, 2622)\n",
      "(20, 2622)\n",
      "(40, 2622)\n",
      "(60, 2622)\n",
      "(80, 2622)\n",
      "(100, 2622)\n",
      "(120, 2622)\n",
      "(140, 2622)\n",
      "(160, 2622)\n",
      "(180, 2622)\n",
      "(200, 2622)\n",
      "(600, 2622)\n",
      "person done\n"
     ]
    }
   ],
   "source": [
    "p_test4=BottleNeck(r'C:\\Users\\Om\\Desktop\\dataset',6)\n",
    "np.save('F08_t.npy',p_test4)"
   ]
  },
  {
   "cell_type": "code",
   "execution_count": 31,
   "metadata": {},
   "outputs": [
    {
     "name": "stdout",
     "output_type": "stream",
     "text": [
      "0word\n",
      "1\n",
      "2\n",
      "3\n",
      "4\n",
      "5\n",
      "6\n",
      "7\n",
      "8\n",
      "9\n",
      "10\n",
      "11\n",
      "12\n",
      "13\n",
      "14\n",
      "15\n",
      "16\n",
      "17\n",
      "18\n",
      "19\n",
      "20\n",
      "1word\n",
      "1\n",
      "2\n",
      "3\n",
      "4\n",
      "5\n",
      "6\n",
      "7\n",
      "8\n",
      "9\n",
      "10\n",
      "11\n",
      "12\n",
      "13\n",
      "14\n",
      "15\n",
      "16\n",
      "17\n",
      "18\n",
      "19\n",
      "20\n",
      "2word\n",
      "1\n",
      "2\n",
      "3\n",
      "4\n",
      "5\n",
      "6\n",
      "7\n",
      "8\n",
      "9\n",
      "10\n",
      "11\n",
      "12\n",
      "13\n",
      "14\n",
      "15\n",
      "16\n",
      "17\n",
      "18\n",
      "19\n",
      "20\n",
      "(20, 2622)\n",
      "(40, 2622)\n",
      "(60, 2622)\n",
      "(80, 2622)\n",
      "(100, 2622)\n",
      "(120, 2622)\n",
      "(140, 2622)\n",
      "(160, 2622)\n",
      "(180, 2622)\n",
      "(200, 2622)\n",
      "(20, 2622)\n",
      "(40, 2622)\n",
      "(60, 2622)\n",
      "(80, 2622)\n",
      "(100, 2622)\n",
      "(120, 2622)\n",
      "(140, 2622)\n",
      "(160, 2622)\n",
      "(180, 2622)\n",
      "(200, 2622)\n",
      "(20, 2622)\n",
      "(40, 2622)\n",
      "(60, 2622)\n",
      "(80, 2622)\n",
      "(100, 2622)\n",
      "(120, 2622)\n",
      "(140, 2622)\n",
      "(160, 2622)\n",
      "(180, 2622)\n",
      "(200, 2622)\n",
      "(600, 2622)\n",
      "person done\n"
     ]
    }
   ],
   "source": [
    "p_test3=BottleNeck(r'C:\\Users\\Om\\Desktop\\dataset',7)\n",
    "np.save('F09_t.npy',p_test3)"
   ]
  },
  {
   "cell_type": "code",
   "execution_count": 32,
   "metadata": {
    "scrolled": true
   },
   "outputs": [
    {
     "name": "stdout",
     "output_type": "stream",
     "text": [
      "0word\n",
      "1\n",
      "2\n",
      "3\n",
      "4\n",
      "5\n",
      "6\n",
      "7\n",
      "8\n",
      "9\n",
      "10\n",
      "11\n",
      "12\n",
      "13\n",
      "14\n",
      "15\n",
      "16\n",
      "17\n",
      "18\n",
      "19\n",
      "20\n",
      "1word\n",
      "1\n",
      "2\n",
      "3\n",
      "4\n",
      "5\n",
      "6\n",
      "7\n",
      "8\n",
      "9\n",
      "10\n",
      "11\n",
      "12\n",
      "13\n",
      "14\n",
      "15\n",
      "16\n",
      "17\n",
      "18\n",
      "19\n",
      "20\n",
      "2word\n",
      "1\n",
      "2\n",
      "3\n",
      "4\n",
      "5\n",
      "6\n",
      "7\n",
      "8\n",
      "9\n",
      "10\n",
      "11\n",
      "12\n",
      "13\n",
      "14\n",
      "15\n",
      "16\n",
      "17\n",
      "18\n",
      "19\n",
      "20\n",
      "(20, 2622)\n",
      "(40, 2622)\n",
      "(60, 2622)\n",
      "(80, 2622)\n",
      "(100, 2622)\n",
      "(120, 2622)\n",
      "(140, 2622)\n",
      "(160, 2622)\n",
      "(180, 2622)\n",
      "(200, 2622)\n",
      "(20, 2622)\n",
      "(40, 2622)\n",
      "(60, 2622)\n",
      "(80, 2622)\n",
      "(100, 2622)\n",
      "(120, 2622)\n",
      "(140, 2622)\n",
      "(160, 2622)\n",
      "(180, 2622)\n",
      "(200, 2622)\n",
      "(20, 2622)\n",
      "(40, 2622)\n",
      "(60, 2622)\n",
      "(80, 2622)\n",
      "(100, 2622)\n",
      "(120, 2622)\n",
      "(140, 2622)\n",
      "(160, 2622)\n",
      "(180, 2622)\n",
      "(200, 2622)\n",
      "(600, 2622)\n",
      "person done\n"
     ]
    }
   ],
   "source": [
    "p_test2=BottleNeck(r'C:\\Users\\Om\\Desktop\\dataset',8)\n",
    "np.save('F10_t.npy',p_test2)"
   ]
  },
  {
   "cell_type": "code",
   "execution_count": 33,
   "metadata": {
    "scrolled": true
   },
   "outputs": [
    {
     "name": "stdout",
     "output_type": "stream",
     "text": [
      "0word\n",
      "1\n",
      "2\n",
      "3\n",
      "4\n",
      "5\n",
      "6\n",
      "7\n",
      "8\n",
      "9\n",
      "10\n",
      "11\n",
      "12\n",
      "13\n",
      "14\n",
      "15\n",
      "16\n",
      "17\n",
      "18\n",
      "19\n",
      "20\n",
      "1word\n",
      "1\n",
      "2\n",
      "3\n",
      "4\n",
      "5\n",
      "6\n",
      "7\n",
      "8\n",
      "9\n",
      "10\n",
      "11\n",
      "12\n",
      "13\n",
      "14\n",
      "15\n",
      "16\n",
      "17\n",
      "18\n",
      "19\n",
      "20\n",
      "2word\n",
      "1\n",
      "2\n",
      "3\n",
      "4\n",
      "5\n",
      "6\n",
      "7\n",
      "8\n",
      "9\n",
      "10\n",
      "11\n",
      "12\n",
      "13\n",
      "14\n",
      "15\n",
      "16\n",
      "17\n",
      "18\n",
      "19\n",
      "20\n",
      "(20, 2622)\n",
      "(40, 2622)\n",
      "(60, 2622)\n",
      "(80, 2622)\n",
      "(100, 2622)\n",
      "(120, 2622)\n",
      "(140, 2622)\n",
      "(160, 2622)\n",
      "(180, 2622)\n",
      "(200, 2622)\n",
      "(20, 2622)\n",
      "(40, 2622)\n",
      "(60, 2622)\n",
      "(80, 2622)\n",
      "(100, 2622)\n",
      "(120, 2622)\n",
      "(140, 2622)\n",
      "(160, 2622)\n",
      "(180, 2622)\n",
      "(200, 2622)\n",
      "(20, 2622)\n",
      "(40, 2622)\n",
      "(60, 2622)\n",
      "(80, 2622)\n",
      "(100, 2622)\n",
      "(120, 2622)\n",
      "(140, 2622)\n",
      "(160, 2622)\n",
      "(180, 2622)\n",
      "(200, 2622)\n",
      "(600, 2622)\n",
      "person done\n"
     ]
    }
   ],
   "source": [
    "p_test1=BottleNeck(r'C:\\Users\\Om\\Desktop\\dataset',9)\n",
    "np.save('F11_t.npy',p_test1)"
   ]
  }
 ],
 "metadata": {
  "kernelspec": {
   "display_name": "Python 3",
   "language": "python",
   "name": "python3"
  },
  "language_info": {
   "codemirror_mode": {
    "name": "ipython",
    "version": 3
   },
   "file_extension": ".py",
   "mimetype": "text/x-python",
   "name": "python",
   "nbconvert_exporter": "python",
   "pygments_lexer": "ipython3",
   "version": "3.7.6"
  }
 },
 "nbformat": 4,
 "nbformat_minor": 4
}
