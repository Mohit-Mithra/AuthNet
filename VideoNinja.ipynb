{
 "cells": [
  {
   "cell_type": "code",
   "execution_count": 9,
   "metadata": {},
   "outputs": [],
   "source": [
    "import cv2"
   ]
  },
  {
   "cell_type": "code",
   "execution_count": 10,
   "metadata": {},
   "outputs": [],
   "source": [
    "vidcap=cv2.VideoCapture('C:\\\\Users\\\\Om\\\\Desktop\\\\cheetos.mp4')"
   ]
  },
  {
   "cell_type": "code",
   "execution_count": 11,
   "metadata": {},
   "outputs": [],
   "source": [
    "def getFrame(sec):\n",
    "    vidcap.set(cv2.CAP_PROP_POS_MSEC,sec*100)\n",
    "    hasFrames,image=vidcap.read()\n",
    "    if hasFrames:\n",
    "        cv2.imwrite(\"C:\\\\Users\\\\Om\\\\Desktop\\\\test_dataset\\\\image\"+str(count)+\".jpg\",image)\n",
    "    return hasFrames\n",
    "sec=0\n",
    "frameRate = 1\n",
    "count=1\n",
    "success=getFrame(sec)\n",
    "while success:\n",
    "    count = count + 1\n",
    "    sec=sec+ frameRate\n",
    "    sec = round(sec,2)\n",
    "    success= getFrame(sec)"
   ]
  }
 ],
 "metadata": {
  "kernelspec": {
   "display_name": "Python 3",
   "language": "python",
   "name": "python3"
  },
  "language_info": {
   "codemirror_mode": {
    "name": "ipython",
    "version": 3
   },
   "file_extension": ".py",
   "mimetype": "text/x-python",
   "name": "python",
   "nbconvert_exporter": "python",
   "pygments_lexer": "ipython3",
   "version": "3.7.4"
  }
 },
 "nbformat": 4,
 "nbformat_minor": 2
}
