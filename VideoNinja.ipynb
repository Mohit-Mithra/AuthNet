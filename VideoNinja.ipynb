{
 "cells": [
  {
   "cell_type": "code",
   "execution_count": 2,
   "metadata": {},
   "outputs": [
    {
     "data": {
      "text/plain": [
       "' This is a program to slice videos into a defined number of images using OpenCV library '"
      ]
     },
     "execution_count": 2,
     "metadata": {},
     "output_type": "execute_result"
    }
   ],
   "source": [
    "\"\"\" This is a program to slice videos into a defined number of images using OpenCV library \"\"\""
   ]
  },
  {
   "cell_type": "code",
   "execution_count": null,
   "metadata": {},
   "outputs": [],
   "source": [
    "import cv2    #Importing OpenCV library. OpenCV 4.0.1 is the version used\n",
    "import os     #Importing standard python os lbrary"
   ]
  },
  {
   "cell_type": "code",
   "execution_count": 1,
   "metadata": {},
   "outputs": [],
   "source": [
    "# This function captures one frame in the video. \n",
    "# getFrame(sec,vidcap,sample_type,person,utterance_counter,image_count):\n",
    "# sec: argument that controls the starting time for video capture.\n",
    "# vidcap: variable that stores directory path of video.\n",
    "# sample_type: variable that stores the path of words in photo directory.\n",
    "# person: variable that stores the path of people in photo directory.\n",
    "# utterance_counter: variable that keeps track of the utterance that is being accessed.\n",
    "# image_count: variable that keeps track of the number of images captured.\n",
    "# test: boolean value to access training or testing folders. test = TRUE for testing.\n",
    "def getFrame(sec,vidcap,sample_type,person,utterance_counter,image_count,test):\n",
    "    \n",
    "    vidcap.set(cv2.CAP_PROP_POS_MSEC,sec*100)\n",
    "    hasFrames,image=vidcap.read()\n",
    "    # condition to store image in photos directory\n",
    "    if hasFrames:\n",
    "        #condition to access either testing or training directories\n",
    "        if (test):\n",
    "            photo_directory_path = \"C:\\\\Users\\\\Om\\\\Desktop\\\\Cerberus\\\\Test\\\\photos\\\\\" + \"M0\"+str(person+1)+ \"\\\\\" + sample_type+ \"\\\\\" +\"U_\"+str(utterance_counter)+ \"\\\\image\"+ str(image_count) +\".jpg\"\n",
    "        else:\n",
    "            photo_directory_path = \"C:\\\\Users\\\\Om\\\\Desktop\\\\Cerberus\\\\photos\\\\\" + \"M0\"+str(person+1)+ \"\\\\\" + sample_type+ \"\\\\\" +\"U_\"+str(utterance_counter)+ \"\\\\image\"+ str(image_count) +\".jpg\"\n",
    " \n",
    "        cv2.imwrite(photo_directory_path,image)\n",
    "    return hasFrames"
   ]
  },
  {
   "cell_type": "code",
   "execution_count": 25,
   "metadata": {},
   "outputs": [],
   "source": [
    "# This function uses getFrame() function to access all the videos and capture the images in sequence.\n",
    "# VideoSlicer(path,person,test):\n",
    "# path: variable that stores input directory path\n",
    "# test: boolean value to access training or testing folders. test = TRUE for testing.\n",
    "def VideoSlicer(path,test):\n",
    "    InpDir=path # until video\n",
    "    lInpdir=os.listdir(InpDir) #list folders in path\n",
    "    personID=lInpdir[0] #access person folder\n",
    "    personFolder= '%s\\\\%s'%(InpDir,personID)\n",
    "    lpersonFolder=os.listdir(personFolder) #list folders in person folder\n",
    "    for sample_type in lpersonFolder:  #loop to run through one positive and 2 negative samples\n",
    "        sample_typeFolder='%s\\\\%s'%(personFolder,sample_type)\n",
    "        lsample_typeFolder=os.listdir(sample_typeFolder) # list all folders in each sample type\n",
    "        utterance_counter=1\n",
    "        for video in lsample_typeFolder:\n",
    "            #access each video as each utterance\n",
    "            video_path= '%s\\\\%s' % (sample_typeFolder,video) \n",
    "            vidcap = cv2.VideoCapture(video_path)\n",
    "            sec=0\n",
    "            frameRate = 1 #variable that controls the number of images taken\n",
    "            image_count=1\n",
    "            success=getFrame(sec,vidcap,sample_type,person,utterance_counter,image_count,test) #calling getFrame()\n",
    "            while success: #loop to capture defined number of images from video\n",
    "                image_count = image_count + 1\n",
    "                sec=sec+ frameRate\n",
    "                sec = round(sec,2)\n",
    "                success= getFrame(sec,vidcap,sample_type,person,utterance_counter,image_count,test)\n",
    "            utterance_counter = utterance_counter + 1\n",
    "    return 0\n",
    "        "
   ]
  }
 ],
 "metadata": {
  "kernelspec": {
   "display_name": "Python 3",
   "language": "python",
   "name": "python3"
  },
  "language_info": {
   "codemirror_mode": {
    "name": "ipython",
    "version": 3
   },
   "file_extension": ".py",
   "mimetype": "text/x-python",
   "name": "python",
   "nbconvert_exporter": "python",
   "pygments_lexer": "ipython3",
   "version": "3.7.6"
  }
 },
 "nbformat": 4,
 "nbformat_minor": 2
}
