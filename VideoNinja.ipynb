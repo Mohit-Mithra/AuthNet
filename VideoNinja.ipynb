{
 "cells": [
  {
   "cell_type": "code",
   "execution_count": 2,
   "metadata": {},
   "outputs": [],
   "source": [
    "import cv2\n",
    "import os\n",
    "import shutil"
   ]
  },
  {
   "cell_type": "code",
   "execution_count": 4,
   "metadata": {},
   "outputs": [],
   "source": [
    "#vidcap=cv2.VideoCapture('C:\\\\Users\\\\Om\\\\Desktop\\\\cheetos.mp4')"
   ]
  },
  {
   "cell_type": "code",
   "execution_count": 9,
   "metadata": {},
   "outputs": [
    {
     "data": {
      "text/plain": [
       "'sec=0\\nframeRate = 1\\ncount=1\\nsuccess=getFrame(sec)\\nwhile success:\\n    count = count + 1\\n    sec=sec+ frameRate\\n    sec = round(sec,2)\\n    success= getFrame(sec)'"
      ]
     },
     "execution_count": 9,
     "metadata": {},
     "output_type": "execute_result"
    }
   ],
   "source": [
    "def getFrame(sec,sample_type,person,utterance_counter):\n",
    "    vidcap.set(cv2.CAP_PROP_POS_MSEC,sec*100)\n",
    "    hasFrames,image=vidcap.read()\n",
    "    \n",
    "    if hasFrames:\n",
    "        cv2.imwrite(\"C:\\\\Users\\\\Om\\\\Desktop\\\\People_cerberus\\\\photos\\\\\" + person+ \"\\\\\" + sample_type+ \"\\\\\" +\"U_\"+str(utterance_counter)+ \"\\\\image\"+ str(count) +\".jpg\",image)\n",
    "    return hasFrames\n",
    "\"\"\"sec=0\n",
    "frameRate = 1\n",
    "count=1\n",
    "success=getFrame(sec)\n",
    "while success:\n",
    "    count = count + 1\n",
    "    sec=sec+ frameRate\n",
    "    sec = round(sec,2)\n",
    "    success= getFrame(sec)\"\"\""
   ]
  },
  {
   "cell_type": "code",
   "execution_count": 1,
   "metadata": {},
   "outputs": [],
   "source": [
    "def VideoSlicer(path,person):\n",
    "    InpDir=path # until video\n",
    "    lInpdir=os.listdir(InpDir)\n",
    "    personID=lInpDir[person]\n",
    "    personFolder= '%s\\\\%s'%(InpDir,personID)\n",
    "    lpersonFolder=os.listdir(personFolder)\n",
    "    for sample_type in lpersonFolder:\n",
    "        sample_typeFolder='%s//%s'%(personFolder,sample_type)\n",
    "        lsample_typeFolder=os.listdir(sample_typeFolder)\n",
    "        utterance_counter=1\n",
    "        for video in lsample_typeFolder:\n",
    "            \n",
    "            video_path= '%s\\\\%s' % (sample_typeFolder,video) \n",
    "            vidcap=cv2.VideoCapture(video_path)\n",
    "            sec=0\n",
    "            frameRate = 1\n",
    "            count=1\n",
    "            success=getFrame(sec,sample_type,person,utterance_counter)\n",
    "            while success:\n",
    "                count = count + 1\n",
    "                sec=sec+ frameRate\n",
    "                sec = round(sec,2)\n",
    "                success= getFrame(sec)\n",
    "            utterance_counter += 1\n",
    "    return 0\n",
    "        "
   ]
  }
 ],
 "metadata": {
  "kernelspec": {
   "display_name": "Python 3",
   "language": "python",
   "name": "python3"
  },
  "language_info": {
   "codemirror_mode": {
    "name": "ipython",
    "version": 3
   },
   "file_extension": ".py",
   "mimetype": "text/x-python",
   "name": "python",
   "nbconvert_exporter": "python",
   "pygments_lexer": "ipython3",
   "version": "3.7.6"
  }
 },
 "nbformat": 4,
 "nbformat_minor": 2
}
