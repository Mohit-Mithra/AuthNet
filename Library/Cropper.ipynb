{
 "cells": [
  {
   "cell_type": "code",
   "execution_count": 2,
   "metadata": {},
   "outputs": [],
   "source": [
    "%matplotlib inline\n",
    "from PIL import Image\n",
    "import cv2\n",
    "import matplotlib.pyplot as plt\n",
    "import numpy as np\n",
    "import os"
   ]
  },
  {
   "cell_type": "markdown",
   "metadata": {},
   "source": [
    "cascade_file_src = \"C:\\\\Users\\\\Om\\\\Desktop\\\\Cerberus\\\\Utilities\\\\haarcascade_frontalface_default.xml\"\n",
    "faceCascade = cv2.CascadeClassifier(cascade_file_src)"
   ]
  },
  {
   "cell_type": "markdown",
   "metadata": {},
   "source": [
    "### Face Extraction model"
   ]
  },
  {
   "cell_type": "code",
   "execution_count": 18,
   "metadata": {},
   "outputs": [],
   "source": [
    "#Function to pad, remove and crop images to face.\n",
    "#Cropper(path,person):\n",
    "#path: variable that stores path to photos\n",
    "#person: variable that stores the person number **not a string value**\n",
    "def Cropper(path,person):\n",
    "        \n",
    "    timesteps = 20 # optimum number of images chosen to 20\n",
    "    inpDir=path #Cerberus/photos\n",
    "    linpDir = os.listdir(inpDir) #list all directories in dataset\n",
    "    personStr= linpDir[person]\n",
    "    sampleFolder = '%s\\\\%s' % (inpDir,personStr) #opening sample folder\n",
    "    lsampleFolder = os.listdir(sampleFolder)\n",
    "    for sample in lsampleFolder:\n",
    "        utterFolder = '%s\\\\%s' % (sampleFolder,sample) #opening each utterance\n",
    "        lutterFolder = os.listdir(utterFolder)\n",
    "        for utterances in lutterFolder:\n",
    "            utterNumber= '%s\\\\%s' % (utterFolder,utterances)\n",
    "            lutterNumber= os.listdir(utterNumber) #listing all images\n",
    "            no_padding= timesteps - len(lutterNumber) #getting the number of images that is extra/deficit than optimum\n",
    "            if no_padding>0 : #condition to pad images with plain white JPEG file\n",
    "                for i in range(no_padding):\n",
    "                    i = i + 1\n",
    "                    white_colorFolder='%s\\\\white%d.jpg' % (utterNumber,i+1)\n",
    "                    img  = Image.open('C:\\\\Users\\\\Om\\\\Desktop\\\\Cerberus\\\\Utilities\\\\white.jpg.jpg') \n",
    "                    img.save(white_colorFolder)\n",
    "            \n",
    "            else: #condition to remove images if exceeding timesteps\n",
    "                for j in range(abs(no_padding)):\n",
    "                    j = j + 20\n",
    "                    colorFolder ='%s\\\\image%d.jpg' % (utterNumber,j + 1)\n",
    "                    os.remove(colorFolder)\n",
    "\n",
    "    return 0\n",
    "        #    for frame in lutterNumber:\n",
    "        #        image= \"%s\\\\%s\" % (utterNumber,frame)\n",
    "        # load image on gray scale :\n",
    "        #        im = cv2.imread(image)\n",
    "        #        gray = cv2.cvtColor(im, cv2.COLOR_BGR2GRAY)\n",
    "        # detect faces in the image :\n",
    "        #        faces = faceCascade.detectMultiScale(gray, 1.1, 5)\n",
    "        # draw rectangles around the faces :\n",
    "        #        for (x, y, w, h) in faces:\n",
    "        #            cv2.rectangle(im, (x, y), (x+w, y+h), (0, 255, 0), 2)\n",
    "        #            photo= Image.open(image)\n",
    "        #            (x, y, w, h) = faces[0]\n",
    "        #            center_x = x+w/2\n",
    "         #           center_y = y+h/2\n",
    "         #           b_dim = min(max(w,h)*1.2,photo.width, photo.height) \n",
    "         ##      #box = (x, y, x+w, y+h)\n",
    "          #          box = (center_x-b_dim/2, center_y-b_dim/2, center_x+b_dim/2, center_y+b_dim/2)\n",
    "          #      # Crop Image\n",
    "          #          crpim = photo.crop(box).resize((224,224))\n",
    "          #         crpim.save(image) \n",
    "    \n"
   ]
  }
 ],
 "metadata": {
  "kernelspec": {
   "display_name": "Python 3",
   "language": "python",
   "name": "python3"
  },
  "language_info": {
   "codemirror_mode": {
    "name": "ipython",
    "version": 3
   },
   "file_extension": ".py",
   "mimetype": "text/x-python",
   "name": "python",
   "nbconvert_exporter": "python",
   "pygments_lexer": "ipython3",
   "version": "3.7.6"
  }
 },
 "nbformat": 4,
 "nbformat_minor": 2
}
