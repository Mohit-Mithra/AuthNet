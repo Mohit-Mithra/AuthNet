{
 "cells": [
  {
   "cell_type": "code",
   "execution_count": 2,
   "metadata": {},
   "outputs": [],
   "source": [
    "%matplotlib inline\n",
    "from PIL import Image\n",
    "import cv2\n",
    "import matplotlib.pyplot as plt\n",
    "import numpy as np\n",
    "import os"
   ]
  },
  {
   "cell_type": "code",
   "execution_count": 3,
   "metadata": {},
   "outputs": [],
   "source": [
    "cascade_file_src = \"C:\\\\Users\\\\Om\\\\Desktop\\\\haarcascade_frontalface_default.xml\"\n",
    "faceCascade = cv2.CascadeClassifier(cascade_file_src)"
   ]
  },
  {
   "cell_type": "markdown",
   "metadata": {},
   "source": [
    "### Face Extraction model"
   ]
  },
  {
   "cell_type": "code",
   "execution_count": 6,
   "metadata": {},
   "outputs": [],
   "source": [
    "def Cropper(path,person):\n",
    "        \n",
    "#list cases which compare MOx to index\n",
    "    inpDir='inpDir' #input dataset most likely to be People_cerebrus/photos\n",
    "    linpDir = os.listdir(inpDir) #list all directories in dataset\n",
    "    personStr= linpDir[person]\n",
    "    sampleFolder = '%s\\\\%s' % (inpDir,personStr) #opening sample folder\n",
    "    lsampleFolder = os.listdir(sampleFolder)\n",
    "    for sample in lsampleFolder:\n",
    "        utterFolder = '%s\\\\%s' % (sampleFolder,sample)\n",
    "        lutterFolder = os.listdir(utterFolder)\n",
    "        for utterances in lutterFolder:\n",
    "            utterNumber= '%s\\\\%s' % (utterFolder,utterances)\n",
    "            lutterNumber= os.listdir(utterNumber)\n",
    "            print(len(lutterNumber))\n",
    "            no_padding= 20 - len(lutterNumber)\n",
    "            if no_padding>0 :\n",
    "                for i in range(no_padding):\n",
    "                    white_colorFolder='%s\\\\white%d.jpg' % (colourFolder,i)\n",
    "                    img  = Image.open('C:\\\\Users\\\\Om\\\\Desktop\\\\white.jpg.jpg') # change path\n",
    "                    img.save(white_colorFolder)\n",
    "                \n",
    "            else:\n",
    "                for j in range(abs(no_padding)):\n",
    "                    j = j + 21\n",
    "                    colorFolder ='%s\\\\color_0%d.jpg' % (colourFolder,j)\n",
    "                    os.remove(colorFolder)\n",
    "\n",
    "\n",
    "\n",
    "            for frame in lutterNumber:\n",
    "                image= \"%s\\\\%s\" % (colourFolder,frame)\n",
    "        # load image on gray scale :\n",
    "                im = cv2.imread(image)\n",
    "                gray = cv2.cvtColor(im, cv2.COLOR_BGR2GRAY)\n",
    "        # detect faces in the image :\n",
    "                faces = faceCascade.detectMultiScale(gray, 1.1, 5)\n",
    "        # draw rectangles around the faces :\n",
    "                for (x, y, w, h) in faces:\n",
    "                    cv2.rectangle(im, (x, y), (x+w, y+h), (0, 255, 0), 2)\n",
    "                    photo= Image.open(image)\n",
    "                    (x, y, w, h) = faces[0]\n",
    "                    center_x = x+w/2\n",
    "                    center_y = y+h/2\n",
    "                    b_dim = min(max(w,h)*1.2,photo.width, photo.height) \n",
    "                #box = (x, y, x+w, y+h)\n",
    "                    box = (center_x-b_dim/2, center_y-b_dim/2, center_x+b_dim/2, center_y+b_dim/2)\n",
    "                # Crop Image\n",
    "                    crpim = photo.crop(box).resize((224,224))\n",
    "                    crpim.save(image)\n",
    "            print(\"Cropping done\")  \n",
    "    return 0\n"
   ]
  },
  {
   "cell_type": "code",
   "execution_count": null,
   "metadata": {},
   "outputs": [],
   "source": [
    "### cropper function definition"
   ]
  },
  {
   "cell_type": "markdown",
   "metadata": {},
   "source": [
    "# "
   ]
  }
 ],
 "metadata": {
  "kernelspec": {
   "display_name": "Python 3",
   "language": "python",
   "name": "python3"
  },
  "language_info": {
   "codemirror_mode": {
    "name": "ipython",
    "version": 3
   },
   "file_extension": ".py",
   "mimetype": "text/x-python",
   "name": "python",
   "nbconvert_exporter": "python",
   "pygments_lexer": "ipython3",
   "version": "3.7.6"
  }
 },
 "nbformat": 4,
 "nbformat_minor": 2
}
