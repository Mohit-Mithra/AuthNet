{
  "nbformat": 4,
  "nbformat_minor": 0,
  "metadata": {
    "kernelspec": {
      "display_name": "Python 3",
      "language": "python",
      "name": "python3"
    },
    "language_info": {
      "codemirror_mode": {
        "name": "ipython",
        "version": 3
      },
      "file_extension": ".py",
      "mimetype": "text/x-python",
      "name": "python",
      "nbconvert_exporter": "python",
      "pygments_lexer": "ipython3",
      "version": "3.7.6"
    },
    "colab": {
      "name": "Cropper.ipynb",
      "provenance": [],
      "include_colab_link": true
    }
  },
  "cells": [
    {
      "cell_type": "markdown",
      "metadata": {
        "id": "view-in-github",
        "colab_type": "text"
      },
      "source": [
        "<a href=\"https://colab.research.google.com/github/Mohit-Mithra/AuthNet/blob/master/Cropper.ipynb\" target=\"_parent\"><img src=\"https://colab.research.google.com/assets/colab-badge.svg\" alt=\"Open In Colab\"/></a>"
      ]
    },
    {
      "cell_type": "code",
      "metadata": {
        "id": "4iwBKR4_fPRW"
      },
      "source": [
        "%matplotlib inline\n",
        "from PIL import Image\n",
        "import cv2\n",
        "import matplotlib.pyplot as plt\n",
        "import numpy as np\n",
        "import os"
      ],
      "execution_count": null,
      "outputs": []
    },
    {
      "cell_type": "markdown",
      "metadata": {
        "id": "w_4geAXKfPR0"
      },
      "source": [
        "### Face Extraction model"
      ]
    },
    {
      "cell_type": "code",
      "metadata": {
        "id": "k0fHO5I7fPR2"
      },
      "source": [
        "#Function to pad, remove and crop images to face.\n",
        "#Cropper(path,person):\n",
        "#path: variable that stores path to photos\n",
        "#person: variable that stores the person number **not a string value**\n",
        "def Cropper(path,person):\n",
        "        \n",
        "    timesteps = 20 # optimum number of images chosen to 20\n",
        "    inpDir=path #Cerberus/photos\n",
        "    linpDir = os.listdir(inpDir) #list all directories in dataset\n",
        "    personStr= linpDir[person]\n",
        "    sampleFolder = '%s\\\\%s' % (inpDir,personStr) #opening sample folder\n",
        "    lsampleFolder = os.listdir(sampleFolder)\n",
        "    for sample in lsampleFolder:\n",
        "        utterFolder = '%s\\\\%s' % (sampleFolder,sample) #opening each utterance\n",
        "        lutterFolder = os.listdir(utterFolder)\n",
        "        for utterances in lutterFolder:\n",
        "            utterNumber= '%s\\\\%s' % (utterFolder,utterances)\n",
        "            lutterNumber= os.listdir(utterNumber) #listing all images\n",
        "            no_padding= timesteps - len(lutterNumber) #getting the number of images that is extra/deficit than optimum\n",
        "            if no_padding>0 : #condition to pad images with plain white JPEG file\n",
        "                for i in range(no_padding):\n",
        "                    i = i + 1\n",
        "                    white_colorFolder='%s\\\\white%d.jpg' % (utterNumber,i+1)\n",
        "                    img  = Image.open('..\\\\Cerberus\\\\Utilities\\\\white.jpg') \n",
        "                    img.save(white_colorFolder)\n",
        "            \n",
        "            else: #condition to remove images if exceeding timesteps\n",
        "                for j in range(abs(no_padding)):\n",
        "                    j = j + 20\n",
        "                    colorFolder ='%s\\\\image%d.jpg' % (utterNumber,j + 1)\n",
        "                    os.remove(colorFolder)\n",
        "    \n",
        "    return 0\n",
        "    \n"
      ],
      "execution_count": null,
      "outputs": []
    }
  ]
}