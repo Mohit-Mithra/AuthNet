{
  "nbformat": 4,
  "nbformat_minor": 0,
  "metadata": {
    "kernelspec": {
      "display_name": "Python 3",
      "language": "python",
      "name": "python3"
    },
    "language_info": {
      "codemirror_mode": {
        "name": "ipython",
        "version": 3
      },
      "file_extension": ".py",
      "mimetype": "text/x-python",
      "name": "python",
      "nbconvert_exporter": "python",
      "pygments_lexer": "ipython3",
      "version": "3.7.6"
    },
    "colab": {
      "name": "Cerberus_Testing.ipynb",
      "provenance": [],
      "include_colab_link": true
    }
  },
  "cells": [
    {
      "cell_type": "markdown",
      "metadata": {
        "id": "view-in-github",
        "colab_type": "text"
      },
      "source": [
        "<a href=\"https://colab.research.google.com/github/Mohit-Mithra/AuthNet/blob/master/Cerberus_Testing.ipynb\" target=\"_parent\"><img src=\"https://colab.research.google.com/assets/colab-badge.svg\" alt=\"Open In Colab\"/></a>"
      ]
    },
    {
      "cell_type": "code",
      "metadata": {
        "id": "420pBjsSwPMk"
      },
      "source": [
        "from keras.models import load_model"
      ],
      "execution_count": null,
      "outputs": []
    },
    {
      "cell_type": "code",
      "metadata": {
        "id": "o2UTtalvwPMv"
      },
      "source": [
        "model=load_model('Water_Bottle.h5')"
      ],
      "execution_count": null,
      "outputs": []
    },
    {
      "cell_type": "markdown",
      "metadata": {
        "id": "HLi6nqVjwPMw"
      },
      "source": [
        "### Video slicing"
      ]
    },
    {
      "cell_type": "code",
      "metadata": {
        "id": "23CFotLawPMw"
      },
      "source": [
        "%run ..\\\\Cerberus\\\\Library\\\\VideoNinja.ipynb"
      ],
      "execution_count": null,
      "outputs": []
    },
    {
      "cell_type": "code",
      "metadata": {
        "id": "WdFVKjytwPMx"
      },
      "source": [
        "VideoSlicer('..\\\\Cerberus\\\\Test\\\\videos',True)"
      ],
      "execution_count": null,
      "outputs": []
    },
    {
      "cell_type": "markdown",
      "metadata": {
        "id": "Vqf8W688wPMx"
      },
      "source": [
        "### Cropper"
      ]
    },
    {
      "cell_type": "code",
      "metadata": {
        "id": "ydSKEfRXwPMy"
      },
      "source": [
        "%run ..\\\\Cerberus\\\\Library\\\\Cropper.ipynb"
      ],
      "execution_count": null,
      "outputs": []
    },
    {
      "cell_type": "code",
      "metadata": {
        "id": "4mrNgCyAwPMy"
      },
      "source": [
        "Cropper('..\\\\Cerberus\\\\Test\\\\photos',1)"
      ],
      "execution_count": null,
      "outputs": []
    },
    {
      "cell_type": "markdown",
      "metadata": {
        "id": "5PfXb_lXwPMz"
      },
      "source": [
        "### Access Bottleneck"
      ]
    },
    {
      "cell_type": "code",
      "metadata": {
        "id": "VFqvKChjwPMz"
      },
      "source": [
        "%run ..\\\\Cerberus\\\\Library\\\\BottleNeck_Testing.ipynb"
      ],
      "execution_count": null,
      "outputs": []
    },
    {
      "cell_type": "code",
      "metadata": {
        "id": "umPQAD4CwPMz"
      },
      "source": [
        "Target_dataset=BottleNeck('..\\\\Cerberus\\\\Test\\\\photos')"
      ],
      "execution_count": null,
      "outputs": []
    },
    {
      "cell_type": "markdown",
      "metadata": {
        "id": "JE665nfBwPM0"
      },
      "source": [
        "### Access Bottle Body"
      ]
    },
    {
      "cell_type": "code",
      "metadata": {
        "id": "c9iUj66XwPM1"
      },
      "source": [
        "dataset_reshaped=Target_dataset.reshape(3,20,2622) "
      ],
      "execution_count": null,
      "outputs": []
    },
    {
      "cell_type": "code",
      "metadata": {
        "id": "GL7peuvPwPM1"
      },
      "source": [
        "model.predict(dataset_reshaped)"
      ],
      "execution_count": null,
      "outputs": []
    }
  ]
}